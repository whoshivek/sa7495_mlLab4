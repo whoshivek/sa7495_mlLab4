{
  "nbformat": 4,
  "nbformat_minor": 0,
  "metadata": {
    "colab": {
      "provenance": [],
      "machine_shape": "hm"
    },
    "kernelspec": {
      "name": "python3",
      "display_name": "Python 3"
    },
    "language_info": {
      "name": "python"
    }
  },
  "cells": [
    {
      "cell_type": "markdown",
      "source": [
        "lab 4\n",
        "\n",
        "\n",
        "---\n",
        "Shivek Aggarwal(sa7495)\n"
      ],
      "metadata": {
        "id": "mZg6jytdVq4B"
      }
    },
    {
      "cell_type": "markdown",
      "source": [
        "Installing required packages"
      ],
      "metadata": {
        "id": "eeA0trSbmAin"
      }
    },
    {
      "cell_type": "code",
      "execution_count": 33,
      "metadata": {
        "colab": {
          "base_uri": "https://localhost:8080/"
        },
        "id": "V8Xmro7YA9e4",
        "outputId": "3b0d0fb3-91a9-4098-fabd-52be693b4702"
      },
      "outputs": [
        {
          "output_type": "stream",
          "name": "stdout",
          "text": [
            "Requirement already satisfied: tensorflow in /usr/local/lib/python3.10/dist-packages (2.14.0)\n",
            "Requirement already satisfied: absl-py>=1.0.0 in /usr/local/lib/python3.10/dist-packages (from tensorflow) (1.4.0)\n",
            "Requirement already satisfied: astunparse>=1.6.0 in /usr/local/lib/python3.10/dist-packages (from tensorflow) (1.6.3)\n",
            "Requirement already satisfied: flatbuffers>=23.5.26 in /usr/local/lib/python3.10/dist-packages (from tensorflow) (23.5.26)\n",
            "Requirement already satisfied: gast!=0.5.0,!=0.5.1,!=0.5.2,>=0.2.1 in /usr/local/lib/python3.10/dist-packages (from tensorflow) (0.5.4)\n",
            "Requirement already satisfied: google-pasta>=0.1.1 in /usr/local/lib/python3.10/dist-packages (from tensorflow) (0.2.0)\n",
            "Requirement already satisfied: h5py>=2.9.0 in /usr/local/lib/python3.10/dist-packages (from tensorflow) (3.9.0)\n",
            "Requirement already satisfied: libclang>=13.0.0 in /usr/local/lib/python3.10/dist-packages (from tensorflow) (16.0.6)\n",
            "Requirement already satisfied: ml-dtypes==0.2.0 in /usr/local/lib/python3.10/dist-packages (from tensorflow) (0.2.0)\n",
            "Requirement already satisfied: numpy>=1.23.5 in /usr/local/lib/python3.10/dist-packages (from tensorflow) (1.23.5)\n",
            "Requirement already satisfied: opt-einsum>=2.3.2 in /usr/local/lib/python3.10/dist-packages (from tensorflow) (3.3.0)\n",
            "Requirement already satisfied: packaging in /usr/local/lib/python3.10/dist-packages (from tensorflow) (23.2)\n",
            "Requirement already satisfied: protobuf!=4.21.0,!=4.21.1,!=4.21.2,!=4.21.3,!=4.21.4,!=4.21.5,<5.0.0dev,>=3.20.3 in /usr/local/lib/python3.10/dist-packages (from tensorflow) (3.20.3)\n",
            "Requirement already satisfied: setuptools in /usr/local/lib/python3.10/dist-packages (from tensorflow) (67.7.2)\n",
            "Requirement already satisfied: six>=1.12.0 in /usr/local/lib/python3.10/dist-packages (from tensorflow) (1.16.0)\n",
            "Requirement already satisfied: termcolor>=1.1.0 in /usr/local/lib/python3.10/dist-packages (from tensorflow) (2.3.0)\n",
            "Requirement already satisfied: typing-extensions>=3.6.6 in /usr/local/lib/python3.10/dist-packages (from tensorflow) (4.5.0)\n",
            "Requirement already satisfied: wrapt<1.15,>=1.11.0 in /usr/local/lib/python3.10/dist-packages (from tensorflow) (1.14.1)\n",
            "Requirement already satisfied: tensorflow-io-gcs-filesystem>=0.23.1 in /usr/local/lib/python3.10/dist-packages (from tensorflow) (0.34.0)\n",
            "Requirement already satisfied: grpcio<2.0,>=1.24.3 in /usr/local/lib/python3.10/dist-packages (from tensorflow) (1.59.3)\n",
            "Requirement already satisfied: tensorboard<2.15,>=2.14 in /usr/local/lib/python3.10/dist-packages (from tensorflow) (2.14.1)\n",
            "Requirement already satisfied: tensorflow-estimator<2.15,>=2.14.0 in /usr/local/lib/python3.10/dist-packages (from tensorflow) (2.14.0)\n",
            "Requirement already satisfied: keras<2.15,>=2.14.0 in /usr/local/lib/python3.10/dist-packages (from tensorflow) (2.14.0)\n",
            "Requirement already satisfied: wheel<1.0,>=0.23.0 in /usr/local/lib/python3.10/dist-packages (from astunparse>=1.6.0->tensorflow) (0.42.0)\n",
            "Requirement already satisfied: google-auth<3,>=1.6.3 in /usr/local/lib/python3.10/dist-packages (from tensorboard<2.15,>=2.14->tensorflow) (2.17.3)\n",
            "Requirement already satisfied: google-auth-oauthlib<1.1,>=0.5 in /usr/local/lib/python3.10/dist-packages (from tensorboard<2.15,>=2.14->tensorflow) (1.0.0)\n",
            "Requirement already satisfied: markdown>=2.6.8 in /usr/local/lib/python3.10/dist-packages (from tensorboard<2.15,>=2.14->tensorflow) (3.5.1)\n",
            "Requirement already satisfied: requests<3,>=2.21.0 in /usr/local/lib/python3.10/dist-packages (from tensorboard<2.15,>=2.14->tensorflow) (2.31.0)\n",
            "Requirement already satisfied: tensorboard-data-server<0.8.0,>=0.7.0 in /usr/local/lib/python3.10/dist-packages (from tensorboard<2.15,>=2.14->tensorflow) (0.7.2)\n",
            "Requirement already satisfied: werkzeug>=1.0.1 in /usr/local/lib/python3.10/dist-packages (from tensorboard<2.15,>=2.14->tensorflow) (3.0.1)\n",
            "Requirement already satisfied: cachetools<6.0,>=2.0.0 in /usr/local/lib/python3.10/dist-packages (from google-auth<3,>=1.6.3->tensorboard<2.15,>=2.14->tensorflow) (5.3.2)\n",
            "Requirement already satisfied: pyasn1-modules>=0.2.1 in /usr/local/lib/python3.10/dist-packages (from google-auth<3,>=1.6.3->tensorboard<2.15,>=2.14->tensorflow) (0.3.0)\n",
            "Requirement already satisfied: rsa<5,>=3.1.4 in /usr/local/lib/python3.10/dist-packages (from google-auth<3,>=1.6.3->tensorboard<2.15,>=2.14->tensorflow) (4.9)\n",
            "Requirement already satisfied: requests-oauthlib>=0.7.0 in /usr/local/lib/python3.10/dist-packages (from google-auth-oauthlib<1.1,>=0.5->tensorboard<2.15,>=2.14->tensorflow) (1.3.1)\n",
            "Requirement already satisfied: charset-normalizer<4,>=2 in /usr/local/lib/python3.10/dist-packages (from requests<3,>=2.21.0->tensorboard<2.15,>=2.14->tensorflow) (3.3.2)\n",
            "Requirement already satisfied: idna<4,>=2.5 in /usr/local/lib/python3.10/dist-packages (from requests<3,>=2.21.0->tensorboard<2.15,>=2.14->tensorflow) (3.6)\n",
            "Requirement already satisfied: urllib3<3,>=1.21.1 in /usr/local/lib/python3.10/dist-packages (from requests<3,>=2.21.0->tensorboard<2.15,>=2.14->tensorflow) (2.0.7)\n",
            "Requirement already satisfied: certifi>=2017.4.17 in /usr/local/lib/python3.10/dist-packages (from requests<3,>=2.21.0->tensorboard<2.15,>=2.14->tensorflow) (2023.11.17)\n",
            "Requirement already satisfied: MarkupSafe>=2.1.1 in /usr/local/lib/python3.10/dist-packages (from werkzeug>=1.0.1->tensorboard<2.15,>=2.14->tensorflow) (2.1.3)\n",
            "Requirement already satisfied: pyasn1<0.6.0,>=0.4.6 in /usr/local/lib/python3.10/dist-packages (from pyasn1-modules>=0.2.1->google-auth<3,>=1.6.3->tensorboard<2.15,>=2.14->tensorflow) (0.5.1)\n",
            "Requirement already satisfied: oauthlib>=3.0.0 in /usr/local/lib/python3.10/dist-packages (from requests-oauthlib>=0.7.0->google-auth-oauthlib<1.1,>=0.5->tensorboard<2.15,>=2.14->tensorflow) (3.2.2)\n"
          ]
        }
      ],
      "source": [
        "%pip install tensorflow"
      ]
    },
    {
      "cell_type": "code",
      "source": [
        "%pip install h5py"
      ],
      "metadata": {
        "colab": {
          "base_uri": "https://localhost:8080/"
        },
        "id": "fs6U5ITrBBXq",
        "outputId": "1c54ccbc-b3f4-48ce-a2eb-534929ff1bfd"
      },
      "execution_count": 34,
      "outputs": [
        {
          "output_type": "stream",
          "name": "stdout",
          "text": [
            "Requirement already satisfied: h5py in /usr/local/lib/python3.10/dist-packages (3.9.0)\n",
            "Requirement already satisfied: numpy>=1.17.3 in /usr/local/lib/python3.10/dist-packages (from h5py) (1.23.5)\n"
          ]
        }
      ]
    },
    {
      "cell_type": "code",
      "source": [
        "%pip install tqdm\n"
      ],
      "metadata": {
        "colab": {
          "base_uri": "https://localhost:8080/"
        },
        "id": "KXiPPrxaBHx3",
        "outputId": "179f7e70-aed6-427d-cfa7-0a8b940b34cf"
      },
      "execution_count": 35,
      "outputs": [
        {
          "output_type": "stream",
          "name": "stdout",
          "text": [
            "Requirement already satisfied: tqdm in /usr/local/lib/python3.10/dist-packages (4.66.1)\n"
          ]
        }
      ]
    },
    {
      "cell_type": "code",
      "source": [
        "%pip install seaborn\n"
      ],
      "metadata": {
        "colab": {
          "base_uri": "https://localhost:8080/"
        },
        "id": "k55t-S0uBKXV",
        "outputId": "ea1afae8-382e-4600-ad64-8ed87aece8aa"
      },
      "execution_count": 36,
      "outputs": [
        {
          "output_type": "stream",
          "name": "stdout",
          "text": [
            "Requirement already satisfied: seaborn in /usr/local/lib/python3.10/dist-packages (0.12.2)\n",
            "Requirement already satisfied: numpy!=1.24.0,>=1.17 in /usr/local/lib/python3.10/dist-packages (from seaborn) (1.23.5)\n",
            "Requirement already satisfied: pandas>=0.25 in /usr/local/lib/python3.10/dist-packages (from seaborn) (1.5.3)\n",
            "Requirement already satisfied: matplotlib!=3.6.1,>=3.1 in /usr/local/lib/python3.10/dist-packages (from seaborn) (3.7.1)\n",
            "Requirement already satisfied: contourpy>=1.0.1 in /usr/local/lib/python3.10/dist-packages (from matplotlib!=3.6.1,>=3.1->seaborn) (1.2.0)\n",
            "Requirement already satisfied: cycler>=0.10 in /usr/local/lib/python3.10/dist-packages (from matplotlib!=3.6.1,>=3.1->seaborn) (0.12.1)\n",
            "Requirement already satisfied: fonttools>=4.22.0 in /usr/local/lib/python3.10/dist-packages (from matplotlib!=3.6.1,>=3.1->seaborn) (4.45.1)\n",
            "Requirement already satisfied: kiwisolver>=1.0.1 in /usr/local/lib/python3.10/dist-packages (from matplotlib!=3.6.1,>=3.1->seaborn) (1.4.5)\n",
            "Requirement already satisfied: packaging>=20.0 in /usr/local/lib/python3.10/dist-packages (from matplotlib!=3.6.1,>=3.1->seaborn) (23.2)\n",
            "Requirement already satisfied: pillow>=6.2.0 in /usr/local/lib/python3.10/dist-packages (from matplotlib!=3.6.1,>=3.1->seaborn) (9.4.0)\n",
            "Requirement already satisfied: pyparsing>=2.3.1 in /usr/local/lib/python3.10/dist-packages (from matplotlib!=3.6.1,>=3.1->seaborn) (3.1.1)\n",
            "Requirement already satisfied: python-dateutil>=2.7 in /usr/local/lib/python3.10/dist-packages (from matplotlib!=3.6.1,>=3.1->seaborn) (2.8.2)\n",
            "Requirement already satisfied: pytz>=2020.1 in /usr/local/lib/python3.10/dist-packages (from pandas>=0.25->seaborn) (2023.3.post1)\n",
            "Requirement already satisfied: six>=1.5 in /usr/local/lib/python3.10/dist-packages (from python-dateutil>=2.7->matplotlib!=3.6.1,>=3.1->seaborn) (1.16.0)\n"
          ]
        }
      ]
    },
    {
      "cell_type": "markdown",
      "source": [
        "Importing required packages"
      ],
      "metadata": {
        "id": "mndv5syAmF-4"
      }
    },
    {
      "cell_type": "code",
      "source": [
        "import h5py\n",
        "import numpy as np\n",
        "import keras\n",
        "import tensorflow as tf\n",
        "import matplotlib.pyplot as plt\n",
        "import pandas as pd\n",
        "import seaborn as sns\n",
        "import sys\n",
        "import warnings\n",
        "from tqdm import tqdm"
      ],
      "metadata": {
        "id": "QKha9AieBM0L"
      },
      "execution_count": 38,
      "outputs": []
    },
    {
      "cell_type": "code",
      "source": [
        "from google.colab import drive\n",
        "drive.mount('/content/drive')"
      ],
      "metadata": {
        "colab": {
          "base_uri": "https://localhost:8080/"
        },
        "id": "J4TkHLGnBPVb",
        "outputId": "ce14380d-5335-4ae1-8fe6-52d144eac007"
      },
      "execution_count": 39,
      "outputs": [
        {
          "output_type": "stream",
          "name": "stdout",
          "text": [
            "Drive already mounted at /content/drive; to attempt to forcibly remount, call drive.mount(\"/content/drive\", force_remount=True).\n"
          ]
        }
      ]
    },
    {
      "cell_type": "code",
      "source": [
        "clean_validation_data_path = '/content/drive/MyDrive/Lab4sa7495/cl/valid.h5'\n",
        "clean_test_data_path = '/content/drive/MyDrive/Lab4sa7495/cl/test.h5'\n",
        "poisoned_validation_data_path = '/content/drive/MyDrive/Lab4sa7495/bd/bd_valid.h5'\n",
        "poisoned_test_data_path = '/content/drive/MyDrive/Lab4sa7495/bd/bd_test.h5'\n",
        "model_path = '/content/drive/MyDrive/bd_net.h5'"
      ],
      "metadata": {
        "id": "dcV1eEMQiG8y"
      },
      "execution_count": 61,
      "outputs": []
    },
    {
      "cell_type": "code",
      "source": [
        "def load_data(filepath):\n",
        "    data = h5py.File(filepath, 'r')\n",
        "    x_data = np.array(data['data'])\n",
        "    y_data = np.array(data['label'])\n",
        "    x_data = x_data.transpose((0, 2, 3, 1))\n",
        "\n",
        "    return x_data, y_data\n",
        "\n",
        "clean_x_test, clean_y_test = load_data(clean_validation_data_path)\n",
        "poisoned_x_test, poisoned_y_test = load_data(poisoned_validation_data_path)\n",
        "\n",
        "poisoned_model = keras.models.load_model(model_path)\n",
        "\n",
        "clean_pred_labels = np.argmax(poisoned_model.predict(clean_x_test), axis=1)\n",
        "clean_accuracy = np.mean(np.equal(clean_pred_labels, clean_y_test)) * 100\n",
        "print('Accuracy on Clean Data:', clean_accuracy)\n",
        "\n",
        "poisoned_pred_labels = np.argmax(poisoned_model.predict(poisoned_x_test), axis=1)\n",
        "attack_success_rate = np.mean(np.equal(poisoned_pred_labels, poisoned_y_test)) * 100\n",
        "print('Attack Success Rate:', attack_success_rate)"
      ],
      "metadata": {
        "colab": {
          "base_uri": "https://localhost:8080/"
        },
        "id": "dvjJS8r-BawB",
        "outputId": "90097d15-a118-43e6-b990-531c40892f59"
      },
      "execution_count": 62,
      "outputs": [
        {
          "output_type": "stream",
          "name": "stdout",
          "text": [
            "361/361 [==============================] - 4s 12ms/step\n",
            "Accuracy on Clean Data: 98.64899974019225\n",
            "361/361 [==============================] - 4s 11ms/step\n",
            "Attack Success Rate: 100.0\n"
          ]
        }
      ]
    },
    {
      "cell_type": "code",
      "source": [
        "x_data, y_data = load_data(clean_validation_data_path)\n",
        "\n",
        "figure = plt.figure(figsize=(10, 10))\n",
        "columns, rows = 3, 3\n",
        "for i in range(1, columns * rows + 1):\n",
        "    index = np.random.randint(x_data.shape[0], size=1)\n",
        "    img, label = (x_data[index], y_data[index])\n",
        "    figure.add_subplot(rows, columns, i)\n",
        "    plt.title(\"Label: {}\".format(label[0]))  # Changed the print statement for clarity\n",
        "    plt.axis(\"off\")\n",
        "    plt.imshow(img[0] / 255)\n",
        "plt.show()"
      ],
      "metadata": {
        "colab": {
          "base_uri": "https://localhost:8080/",
          "height": 829
        },
        "id": "7uMaO_tVBfDh",
        "outputId": "1708eb84-574c-4221-b469-9d5a140e7c92"
      },
      "execution_count": 63,
      "outputs": [
        {
          "output_type": "display_data",
          "data": {
            "text/plain": [
              "<Figure size 1000x1000 with 9 Axes>"
            ],
            "image/png": "[encoded data removed]"
          },
          "metadata": {}
        }
      ]
    },
    {
      "cell_type": "code",
      "source": [
        "x_poisoned_data, y_poisoned_data = load_data(poisoned_validation_data_path)\n",
        "\n",
        "figure = plt.figure(figsize=(10, 8))\n",
        "columns, rows = 3, 3\n",
        "for i in range(1, columns * rows + 1):\n",
        "    index = np.random.randint(x_poisoned_data.shape[0], size=1)\n",
        "    img, label = (x_poisoned_data[index], y_poisoned_data[index])\n",
        "    figure.add_subplot(rows, columns, i)\n",
        "    plt.title(\"Label: {}\".format(label[0]))\n",
        "    plt.axis(\"off\")\n",
        "    plt.imshow(img[0] / 255)\n",
        "plt.show()"
      ],
      "metadata": {
        "colab": {
          "base_uri": "https://localhost:8080/",
          "height": 675
        },
        "id": "wwJyXD67CP2a",
        "outputId": "7b9bf9ef-228b-44f8-a60c-3804d36fbbed"
      },
      "execution_count": 64,
      "outputs": [
        {
          "output_type": "display_data",
          "data": {
            "text/plain": [
              "<Figure size 1000x800 with 9 Axes>"
            ],
            "image/png": "[encoded data removed]"
          },
          "metadata": {}
        }
      ]
    },
    {
      "cell_type": "code",
      "source": [
        "bd_net_model = keras.models.load_model(model_path)"
      ],
      "metadata": {
        "id": "_5FAAWpBCZ68"
      },
      "execution_count": 65,
      "outputs": []
    },
    {
      "cell_type": "code",
      "source": [
        "bd_net_model = keras.models.load_model(model_path)  # Loaded the bd_net model\n",
        "\n",
        "print(\"Summary of the bd_net model:\")\n",
        "bd_net_model.summary()"
      ],
      "metadata": {
        "colab": {
          "base_uri": "https://localhost:8080/"
        },
        "id": "5jiQpjWOCc1Z",
        "outputId": "b542b39b-4fc4-4402-b837-6ded0d5ce9c8"
      },
      "execution_count": 66,
      "outputs": [
        {
          "output_type": "stream",
          "name": "stdout",
          "text": [
            "Summary of the bd_net model:\n",
            "Model: \"model_1\"\n",
            "__________________________________________________________________________________________________\n",
            " Layer (type)                Output Shape                 Param #   Connected to                  \n",
            "==================================================================================================\n",
            " input (InputLayer)          [(None, 55, 47, 3)]          0         []                            \n",
            "                                                                                                  \n",
            " conv_1 (Conv2D)             (None, 52, 44, 20)           980       ['input[0][0]']               \n",
            "                                                                                                  \n",
            " pool_1 (MaxPooling2D)       (None, 26, 22, 20)           0         ['conv_1[0][0]']              \n",
            "                                                                                                  \n",
            " conv_2 (Conv2D)             (None, 24, 20, 40)           7240      ['pool_1[0][0]']              \n",
            "                                                                                                  \n",
            " pool_2 (MaxPooling2D)       (None, 12, 10, 40)           0         ['conv_2[0][0]']              \n",
            "                                                                                                  \n",
            " conv_3 (Conv2D)             (None, 10, 8, 60)            21660     ['pool_2[0][0]']              \n",
            "                                                                                                  \n",
            " pool_3 (MaxPooling2D)       (None, 5, 4, 60)             0         ['conv_3[0][0]']              \n",
            "                                                                                                  \n",
            " conv_4 (Conv2D)             (None, 4, 3, 80)             19280     ['pool_3[0][0]']              \n",
            "                                                                                                  \n",
            " flatten_1 (Flatten)         (None, 1200)                 0         ['pool_3[0][0]']              \n",
            "                                                                                                  \n",
            " flatten_2 (Flatten)         (None, 960)                  0         ['conv_4[0][0]']              \n",
            "                                                                                                  \n",
            " fc_1 (Dense)                (None, 160)                  192160    ['flatten_1[0][0]']           \n",
            "                                                                                                  \n",
            " fc_2 (Dense)                (None, 160)                  153760    ['flatten_2[0][0]']           \n",
            "                                                                                                  \n",
            " add_1 (Add)                 (None, 160)                  0         ['fc_1[0][0]',                \n",
            "                                                                     'fc_2[0][0]']                \n",
            "                                                                                                  \n",
            " activation_1 (Activation)   (None, 160)                  0         ['add_1[0][0]']               \n",
            "                                                                                                  \n",
            " output (Dense)              (None, 1283)                 206563    ['activation_1[0][0]']        \n",
            "                                                                                                  \n",
            "==================================================================================================\n",
            "Total params: 601643 (2.30 MB)\n",
            "Trainable params: 601643 (2.30 MB)\n",
            "Non-trainable params: 0 (0.00 Byte)\n",
            "__________________________________________________________________________________________________\n"
          ]
        }
      ]
    },
    {
      "cell_type": "code",
      "source": [
        "keras.backend.clear_session()"
      ],
      "metadata": {
        "id": "mR60kWPZCg3u"
      },
      "execution_count": 67,
      "outputs": []
    },
    {
      "cell_type": "code",
      "source": [
        "clean_val_x, clean_val_y = load_data(clean_validation_data_path)\n",
        "poisoned_val_x, poisoned_val_y = load_data(poisoned_validation_data_path)"
      ],
      "metadata": {
        "id": "X0EgEO8iCkY_"
      },
      "execution_count": 68,
      "outputs": []
    },
    {
      "cell_type": "code",
      "source": [
        "original_clean_accuracy = 98.64899974019225  # Original classification accuracy\n",
        "model_copy = keras.models.clone_model(bd_net_model)\n",
        "model_copy.set_weights(bd_net_model.get_weights())\n",
        "prune_index = []\n",
        "classification_accuracy = []  # Classification accuracy\n",
        "attack_success_rate = []   # Attack success rate\n",
        "saved_model_flags = np.zeros(3, dtype=bool)\n",
        "layer_output = model_copy.get_layer('pool_3').output\n",
        "intermediate_model = keras.models.Model(inputs=model_copy.input, outputs=layer_output)\n",
        "intermediate_predictions = intermediate_model.predict(clean_x_test)  # Assuming clean_x_test is used here\n",
        "temp_mean = np.mean(intermediate_predictions, axis=(0, 1, 2))\n",
        "sorted_indices = np.argsort(temp_mean)\n",
        "weights_layer_5 = model_copy.layers[5].get_weights()[0]\n",
        "biases_layer_5 = model_copy.layers[5].get_weights()[1]\n",
        "for channel_idx in tqdm(sorted_indices):\n",
        "    weights_layer_0 = model_copy.layers[5].get_weights()[0]\n",
        "    biases_layer_0 = model_copy.layers[5].get_weights()[1]\n",
        "\n",
        "    weights_layer_0[:, :, :, channel_idx] = 0\n",
        "    biases_layer_0[channel_idx] = 0\n",
        "\n",
        "    model_copy.layers[5].set_weights([weights_layer_0, biases_layer_0])\n",
        "\n",
        "    cl_label_pred = np.argmax(model_copy.predict(clean_x_test), axis=1)\n",
        "    clean_accuracy_after = np.mean(np.equal(cl_label_pred, clean_y_test)) * 100\n",
        "\n",
        "    if (original_clean_accuracy - clean_accuracy_after >= 2 and not saved_model_flags[0]):\n",
        "        print(\"Accuracy dropped at least 2%, model saved\")\n",
        "        model_copy.save('model_X_2.h5')\n",
        "        saved_model_flags[0] = True\n",
        "\n",
        "    if (original_clean_accuracy - clean_accuracy_after >= 4 and not saved_model_flags[1]):\n",
        "        print(\"Accuracy dropped at least 4%, model saved\")\n",
        "        model_copy.save('model_X_4.h5')\n",
        "        saved_model_flags[1] = True\n",
        "\n",
        "    if (original_clean_accuracy - clean_accuracy_after >= 10 and not saved_model_flags[2]):\n",
        "        print(\"Accuracy dropped at least 10%, model saved\")\n",
        "        model_copy.save('model_X_10.h5')\n",
        "        saved_model_flags[2] = True\n",
        "\n",
        "    classification_accuracy.append(clean_accuracy_after)\n",
        "\n",
        "    bd_label_pred = np.argmax(model_copy.predict(poisoned_x_test), axis=1)\n",
        "    attack_success = np.mean(np.equal(bd_label_pred, poisoned_y_test)) * 100\n",
        "    attack_success_rate.append(attack_success)\n",
        "\n",
        "    print()\n",
        "    print(\"Clean accuracy:\", clean_accuracy_after)\n",
        "    print(\"Attack success rate:\", attack_success)\n",
        "    print(\"Pruned channel index:\", channel_idx)\n",
        "    keras.backend.clear_session()"
      ],
      "metadata": {
        "colab": {
          "base_uri": "https://localhost:8080/"
        },
        "id": "L5SG1DA5Cnc1",
        "outputId": "9f0acfd5-d12b-4b9f-d0fa-69c03c735bd7"
      },
      "execution_count": 70,
      "outputs": [
        {
          "output_type": "stream",
          "name": "stdout",
          "text": [
            "361/361 [==============================] - 4s 10ms/step\n"
          ]
        },
        {
          "output_type": "stream",
          "name": "stderr",
          "text": [
            "\r  0%|          | 0/60 [00:00<?, ?it/s]"
          ]
        },
        {
          "output_type": "stream",
          "name": "stdout",
          "text": [
            "361/361 [==============================] - 4s 12ms/step\n",
            "361/361 [==============================] - 4s 11ms/step\n"
          ]
        },
        {
          "output_type": "stream",
          "name": "stderr",
          "text": [
            "\r  2%|▏         | 1/60 [00:13<13:18, 13.54s/it]"
          ]
        },
        {
          "output_type": "stream",
          "name": "stdout",
          "text": [
            "\n",
            "Clean accuracy: 98.64899974019225\n",
            "Attack success rate: 100.0\n",
            "Pruned channel index: 0\n",
            "361/361 [==============================] - 4s 11ms/step\n",
            "361/361 [==============================] - 4s 11ms/step\n"
          ]
        },
        {
          "output_type": "stream",
          "name": "stderr",
          "text": [
            "\r  3%|▎         | 2/60 [00:23<11:19, 11.72s/it]"
          ]
        },
        {
          "output_type": "stream",
          "name": "stdout",
          "text": [
            "\n",
            "Clean accuracy: 98.64899974019225\n",
            "Attack success rate: 100.0\n",
            "Pruned channel index: 26\n",
            "361/361 [==============================] - 4s 11ms/step\n",
            "361/361 [==============================] - 4s 11ms/step\n"
          ]
        },
        {
          "output_type": "stream",
          "name": "stderr",
          "text": [
            "\r  5%|▌         | 3/60 [00:35<10:53, 11.47s/it]"
          ]
        },
        {
          "output_type": "stream",
          "name": "stdout",
          "text": [
            "\n",
            "Clean accuracy: 98.64899974019225\n",
            "Attack success rate: 100.0\n",
            "Pruned channel index: 27\n",
            "361/361 [==============================] - 4s 11ms/step\n",
            "361/361 [==============================] - 4s 12ms/step\n",
            "\n",
            "Clean accuracy: 98.64899974019225\n",
            "Attack success rate: 100.0\n",
            "Pruned channel index: 30\n"
          ]
        },
        {
          "output_type": "stream",
          "name": "stderr",
          "text": [
            "\r  7%|▋         | 4/60 [00:46<10:33, 11.30s/it]"
          ]
        },
        {
          "output_type": "stream",
          "name": "stdout",
          "text": [
            "361/361 [==============================] - 4s 12ms/step\n",
            "361/361 [==============================] - 4s 11ms/step\n"
          ]
        },
        {
          "output_type": "stream",
          "name": "stderr",
          "text": [
            "\r  8%|▊         | 5/60 [00:56<10:04, 10.99s/it]"
          ]
        },
        {
          "output_type": "stream",
          "name": "stdout",
          "text": [
            "\n",
            "Clean accuracy: 98.64899974019225\n",
            "Attack success rate: 100.0\n",
            "Pruned channel index: 31\n",
            "361/361 [==============================] - 4s 11ms/step\n",
            "361/361 [==============================] - 4s 12ms/step\n",
            "\n",
            "Clean accuracy: 98.64899974019225\n",
            "Attack success rate: 100.0\n",
            "Pruned channel index: 33\n"
          ]
        },
        {
          "output_type": "stream",
          "name": "stderr",
          "text": [
            "\r 10%|█         | 6/60 [01:08<10:02, 11.15s/it]"
          ]
        },
        {
          "output_type": "stream",
          "name": "stdout",
          "text": [
            "361/361 [==============================] - 4s 11ms/step\n",
            "361/361 [==============================] - 4s 11ms/step\n"
          ]
        },
        {
          "output_type": "stream",
          "name": "stderr",
          "text": [
            "\r 12%|█▏        | 7/60 [01:18<09:40, 10.95s/it]"
          ]
        },
        {
          "output_type": "stream",
          "name": "stdout",
          "text": [
            "\n",
            "Clean accuracy: 98.64899974019225\n",
            "Attack success rate: 100.0\n",
            "Pruned channel index: 34\n",
            "361/361 [==============================] - 4s 11ms/step\n",
            "361/361 [==============================] - 4s 11ms/step\n"
          ]
        },
        {
          "output_type": "stream",
          "name": "stderr",
          "text": [
            "\r 13%|█▎        | 8/60 [01:28<09:16, 10.71s/it]"
          ]
        },
        {
          "output_type": "stream",
          "name": "stdout",
          "text": [
            "\n",
            "Clean accuracy: 98.64899974019225\n",
            "Attack success rate: 100.0\n",
            "Pruned channel index: 36\n",
            "361/361 [==============================] - 4s 11ms/step\n",
            "361/361 [==============================] - 4s 11ms/step\n"
          ]
        },
        {
          "output_type": "stream",
          "name": "stderr",
          "text": [
            "\r 15%|█▌        | 9/60 [01:39<09:00, 10.60s/it]"
          ]
        },
        {
          "output_type": "stream",
          "name": "stdout",
          "text": [
            "\n",
            "Clean accuracy: 98.64899974019225\n",
            "Attack success rate: 100.0\n",
            "Pruned channel index: 37\n",
            "361/361 [==============================] - 4s 11ms/step\n",
            "361/361 [==============================] - 4s 12ms/step\n"
          ]
        },
        {
          "output_type": "stream",
          "name": "stderr",
          "text": [
            "\r 17%|█▋        | 10/60 [01:50<09:03, 10.87s/it]"
          ]
        },
        {
          "output_type": "stream",
          "name": "stdout",
          "text": [
            "\n",
            "Clean accuracy: 98.64899974019225\n",
            "Attack success rate: 100.0\n",
            "Pruned channel index: 38\n",
            "361/361 [==============================] - 4s 11ms/step\n",
            "361/361 [==============================] - 4s 11ms/step\n"
          ]
        },
        {
          "output_type": "stream",
          "name": "stderr",
          "text": [
            "\r 18%|█▊        | 11/60 [02:00<08:41, 10.64s/it]"
          ]
        },
        {
          "output_type": "stream",
          "name": "stdout",
          "text": [
            "\n",
            "Clean accuracy: 98.64899974019225\n",
            "Attack success rate: 100.0\n",
            "Pruned channel index: 25\n",
            "361/361 [==============================] - 4s 12ms/step\n",
            "361/361 [==============================] - 4s 11ms/step\n"
          ]
        },
        {
          "output_type": "stream",
          "name": "stderr",
          "text": [
            "\r 20%|██        | 12/60 [02:11<08:29, 10.62s/it]"
          ]
        },
        {
          "output_type": "stream",
          "name": "stdout",
          "text": [
            "\n",
            "Clean accuracy: 98.64899974019225\n",
            "Attack success rate: 100.0\n",
            "Pruned channel index: 39\n",
            "361/361 [==============================] - 4s 11ms/step\n",
            "361/361 [==============================] - 4s 12ms/step\n"
          ]
        },
        {
          "output_type": "stream",
          "name": "stderr",
          "text": [
            "\r 22%|██▏       | 13/60 [02:22<08:21, 10.67s/it]"
          ]
        },
        {
          "output_type": "stream",
          "name": "stdout",
          "text": [
            "\n",
            "Clean accuracy: 98.64899974019225\n",
            "Attack success rate: 100.0\n",
            "Pruned channel index: 41\n",
            "361/361 [==============================] - 4s 11ms/step\n",
            "361/361 [==============================] - 4s 11ms/step\n"
          ]
        },
        {
          "output_type": "stream",
          "name": "stderr",
          "text": [
            "\r 23%|██▎       | 14/60 [02:33<08:19, 10.85s/it]"
          ]
        },
        {
          "output_type": "stream",
          "name": "stdout",
          "text": [
            "\n",
            "Clean accuracy: 98.64899974019225\n",
            "Attack success rate: 100.0\n",
            "Pruned channel index: 44\n",
            "361/361 [==============================] - 4s 11ms/step\n",
            "361/361 [==============================] - 4s 11ms/step\n"
          ]
        },
        {
          "output_type": "stream",
          "name": "stderr",
          "text": [
            "\r 25%|██▌       | 15/60 [02:43<08:00, 10.68s/it]"
          ]
        },
        {
          "output_type": "stream",
          "name": "stdout",
          "text": [
            "\n",
            "Clean accuracy: 98.64899974019225\n",
            "Attack success rate: 100.0\n",
            "Pruned channel index: 45\n",
            "361/361 [==============================] - 4s 12ms/step\n",
            "361/361 [==============================] - 4s 11ms/step\n"
          ]
        },
        {
          "output_type": "stream",
          "name": "stderr",
          "text": [
            "\r 27%|██▋       | 16/60 [02:55<08:05, 11.02s/it]"
          ]
        },
        {
          "output_type": "stream",
          "name": "stdout",
          "text": [
            "\n",
            "Clean accuracy: 98.64899974019225\n",
            "Attack success rate: 100.0\n",
            "Pruned channel index: 47\n",
            "361/361 [==============================] - 4s 11ms/step\n",
            "361/361 [==============================] - 4s 12ms/step\n"
          ]
        },
        {
          "output_type": "stream",
          "name": "stderr",
          "text": [
            "\r 28%|██▊       | 17/60 [03:06<07:56, 11.08s/it]"
          ]
        },
        {
          "output_type": "stream",
          "name": "stdout",
          "text": [
            "\n",
            "Clean accuracy: 98.64899974019225\n",
            "Attack success rate: 100.0\n",
            "Pruned channel index: 48\n",
            "361/361 [==============================] - 4s 11ms/step\n",
            "361/361 [==============================] - 4s 11ms/step\n"
          ]
        },
        {
          "output_type": "stream",
          "name": "stderr",
          "text": [
            "\r 30%|███       | 18/60 [03:16<07:35, 10.84s/it]"
          ]
        },
        {
          "output_type": "stream",
          "name": "stdout",
          "text": [
            "\n",
            "Clean accuracy: 98.64899974019225\n",
            "Attack success rate: 100.0\n",
            "Pruned channel index: 49\n",
            "361/361 [==============================] - 4s 12ms/step\n",
            "361/361 [==============================] - 4s 11ms/step\n"
          ]
        },
        {
          "output_type": "stream",
          "name": "stderr",
          "text": [
            "\r 32%|███▏      | 19/60 [03:27<07:24, 10.84s/it]"
          ]
        },
        {
          "output_type": "stream",
          "name": "stdout",
          "text": [
            "\n",
            "Clean accuracy: 98.64899974019225\n",
            "Attack success rate: 100.0\n",
            "Pruned channel index: 50\n",
            "361/361 [==============================] - 4s 11ms/step\n",
            "361/361 [==============================] - 4s 11ms/step\n"
          ]
        },
        {
          "output_type": "stream",
          "name": "stderr",
          "text": [
            "\r 33%|███▎      | 20/60 [03:38<07:17, 10.93s/it]"
          ]
        },
        {
          "output_type": "stream",
          "name": "stdout",
          "text": [
            "\n",
            "Clean accuracy: 98.64899974019225\n",
            "Attack success rate: 100.0\n",
            "Pruned channel index: 53\n",
            "361/361 [==============================] - 4s 11ms/step\n",
            "361/361 [==============================] - 4s 12ms/step\n",
            "\n",
            "Clean accuracy:"
          ]
        },
        {
          "output_type": "stream",
          "name": "stderr",
          "text": [
            "\r 35%|███▌      | 21/60 [03:49<06:59, 10.76s/it]"
          ]
        },
        {
          "output_type": "stream",
          "name": "stdout",
          "text": [
            " 98.64899974019225\n",
            "Attack success rate: 100.0\n",
            "Pruned channel index: 55\n",
            "361/361 [==============================] - 4s 11ms/step\n",
            "361/361 [==============================] - 4s 11ms/step\n"
          ]
        },
        {
          "output_type": "stream",
          "name": "stderr",
          "text": [
            "\r 37%|███▋      | 22/60 [04:00<06:48, 10.76s/it]"
          ]
        },
        {
          "output_type": "stream",
          "name": "stdout",
          "text": [
            "\n",
            "Clean accuracy: 98.64899974019225\n",
            "Attack success rate: 100.0\n",
            "Pruned channel index: 40\n",
            "361/361 [==============================] - 4s 12ms/step\n",
            "361/361 [==============================] - 4s 11ms/step\n"
          ]
        },
        {
          "output_type": "stream",
          "name": "stderr",
          "text": [
            "\r 38%|███▊      | 23/60 [04:11<06:42, 10.88s/it]"
          ]
        },
        {
          "output_type": "stream",
          "name": "stdout",
          "text": [
            "\n",
            "Clean accuracy: 98.64899974019225\n",
            "Attack success rate: 100.0\n",
            "Pruned channel index: 24\n",
            "361/361 [==============================] - 4s 11ms/step\n",
            "361/361 [==============================] - 4s 12ms/step\n"
          ]
        },
        {
          "output_type": "stream",
          "name": "stderr",
          "text": [
            "\r 40%|████      | 24/60 [04:22<06:34, 10.94s/it]"
          ]
        },
        {
          "output_type": "stream",
          "name": "stdout",
          "text": [
            "\n",
            "Clean accuracy: 98.64899974019225\n",
            "Attack success rate: 100.0\n",
            "Pruned channel index: 59\n",
            "361/361 [==============================] - 4s 11ms/step\n",
            "361/361 [==============================] - 4s 11ms/step\n"
          ]
        },
        {
          "output_type": "stream",
          "name": "stderr",
          "text": [
            "\r 42%|████▏     | 25/60 [04:34<06:30, 11.15s/it]"
          ]
        },
        {
          "output_type": "stream",
          "name": "stdout",
          "text": [
            "\n",
            "Clean accuracy: 98.64899974019225\n",
            "Attack success rate: 100.0\n",
            "Pruned channel index: 9\n",
            "361/361 [==============================] - 4s 11ms/step\n",
            "361/361 [==============================] - 4s 11ms/step\n"
          ]
        },
        {
          "output_type": "stream",
          "name": "stderr",
          "text": [
            "\r 43%|████▎     | 26/60 [04:44<06:08, 10.82s/it]"
          ]
        },
        {
          "output_type": "stream",
          "name": "stdout",
          "text": [
            "\n",
            "Clean accuracy: 98.64899974019225\n",
            "Attack success rate: 100.0\n",
            "Pruned channel index: 2\n",
            "361/361 [==============================] - 4s 12ms/step\n",
            "361/361 [==============================] - 4s 11ms/step\n"
          ]
        },
        {
          "output_type": "stream",
          "name": "stderr",
          "text": [
            "\r 45%|████▌     | 27/60 [04:54<05:54, 10.73s/it]"
          ]
        },
        {
          "output_type": "stream",
          "name": "stdout",
          "text": [
            "\n",
            "Clean accuracy: 98.64899974019225\n",
            "Attack success rate: 100.0\n",
            "Pruned channel index: 12\n",
            "361/361 [==============================] - 4s 11ms/step\n",
            "361/361 [==============================] - 4s 12ms/step\n"
          ]
        },
        {
          "output_type": "stream",
          "name": "stderr",
          "text": [
            "\r 47%|████▋     | 28/60 [05:05<05:45, 10.80s/it]"
          ]
        },
        {
          "output_type": "stream",
          "name": "stdout",
          "text": [
            "\n",
            "Clean accuracy: 98.64899974019225\n",
            "Attack success rate: 100.0\n",
            "Pruned channel index: 13\n",
            "361/361 [==============================] - 4s 11ms/step\n",
            "361/361 [==============================] - 4s 11ms/step\n"
          ]
        },
        {
          "output_type": "stream",
          "name": "stderr",
          "text": [
            "\r 48%|████▊     | 29/60 [05:15<05:29, 10.62s/it]"
          ]
        },
        {
          "output_type": "stream",
          "name": "stdout",
          "text": [
            "\n",
            "Clean accuracy: 98.64899974019225\n",
            "Attack success rate: 100.0\n",
            "Pruned channel index: 17\n",
            "361/361 [==============================] - 4s 11ms/step\n",
            "361/361 [==============================] - 4s 11ms/step\n",
            "\n",
            "Clean accuracy: 98.64899974019225\n",
            "Attack success rate: 100.0\n",
            "Pruned channel index: 14\n"
          ]
        },
        {
          "output_type": "stream",
          "name": "stderr",
          "text": [
            "\r 50%|█████     | 30/60 [05:26<05:16, 10.54s/it]"
          ]
        },
        {
          "output_type": "stream",
          "name": "stdout",
          "text": [
            "361/361 [==============================] - 4s 11ms/step\n",
            "361/361 [==============================] - 4s 12ms/step\n"
          ]
        },
        {
          "output_type": "stream",
          "name": "stderr",
          "text": [
            "\r 52%|█████▏    | 31/60 [05:36<05:06, 10.57s/it]"
          ]
        },
        {
          "output_type": "stream",
          "name": "stdout",
          "text": [
            "\n",
            "Clean accuracy: 98.64899974019225\n",
            "Attack success rate: 100.0\n",
            "Pruned channel index: 15\n",
            "361/361 [==============================] - 4s 11ms/step\n",
            "361/361 [==============================] - 4s 11ms/step\n"
          ]
        },
        {
          "output_type": "stream",
          "name": "stderr",
          "text": [
            "\r 53%|█████▎    | 32/60 [05:47<05:01, 10.77s/it]"
          ]
        },
        {
          "output_type": "stream",
          "name": "stdout",
          "text": [
            "\n",
            "Clean accuracy: 98.64899974019225\n",
            "Attack success rate: 100.0\n",
            "Pruned channel index: 23\n",
            "361/361 [==============================] - 4s 11ms/step\n",
            "361/361 [==============================] - 4s 11ms/step\n"
          ]
        },
        {
          "output_type": "stream",
          "name": "stderr",
          "text": [
            "\r 55%|█████▌    | 33/60 [05:59<04:53, 10.89s/it]"
          ]
        },
        {
          "output_type": "stream",
          "name": "stdout",
          "text": [
            "\n",
            "Clean accuracy: 98.64899974019225\n",
            "Attack success rate: 100.0\n",
            "Pruned channel index: 6\n",
            "361/361 [==============================] - 4s 11ms/step\n",
            "361/361 [==============================] - 4s 11ms/step\n"
          ]
        },
        {
          "output_type": "stream",
          "name": "stderr",
          "text": [
            "\r 57%|█████▋    | 34/60 [06:09<04:42, 10.85s/it]"
          ]
        },
        {
          "output_type": "stream",
          "name": "stdout",
          "text": [
            "\n",
            "Clean accuracy: 98.64033948211657\n",
            "Attack success rate: 100.0\n",
            "Pruned channel index: 51\n",
            "361/361 [==============================] - 4s 11ms/step\n",
            "361/361 [==============================] - 4s 12ms/step\n"
          ]
        },
        {
          "output_type": "stream",
          "name": "stderr",
          "text": [
            "\r 58%|█████▊    | 35/60 [06:20<04:27, 10.71s/it]"
          ]
        },
        {
          "output_type": "stream",
          "name": "stdout",
          "text": [
            "\n",
            "Clean accuracy: 98.64033948211657\n",
            "Attack success rate: 100.0\n",
            "Pruned channel index: 32\n",
            "361/361 [==============================] - 4s 11ms/step\n",
            "361/361 [==============================] - 4s 11ms/step\n"
          ]
        },
        {
          "output_type": "stream",
          "name": "stderr",
          "text": [
            "\r 60%|██████    | 36/60 [06:30<04:12, 10.51s/it]"
          ]
        },
        {
          "output_type": "stream",
          "name": "stdout",
          "text": [
            "\n",
            "Clean accuracy: 98.63167922404088\n",
            "Attack success rate: 100.0\n",
            "Pruned channel index: 22\n",
            "361/361 [==============================] - 4s 11ms/step\n",
            "361/361 [==============================] - 4s 11ms/step\n",
            "\n",
            "Clean accuracy: 98.65765999826795\n",
            "Attack success rate: 100.0\n",
            "Pruned channel index: 21\n"
          ]
        },
        {
          "output_type": "stream",
          "name": "stderr",
          "text": [
            "\r 62%|██████▏   | 37/60 [06:41<04:03, 10.58s/it]"
          ]
        },
        {
          "output_type": "stream",
          "name": "stdout",
          "text": [
            "361/361 [==============================] - 4s 11ms/step\n",
            "361/361 [==============================] - 4s 12ms/step\n"
          ]
        },
        {
          "output_type": "stream",
          "name": "stderr",
          "text": [
            "\r 63%|██████▎   | 38/60 [06:52<03:56, 10.76s/it]"
          ]
        },
        {
          "output_type": "stream",
          "name": "stdout",
          "text": [
            "\n",
            "Clean accuracy: 98.64899974019225\n",
            "Attack success rate: 100.0\n",
            "Pruned channel index: 20\n",
            "361/361 [==============================] - 4s 11ms/step\n",
            "361/361 [==============================] - 4s 12ms/step\n"
          ]
        },
        {
          "output_type": "stream",
          "name": "stderr",
          "text": [
            "\r 65%|██████▌   | 39/60 [07:04<03:54, 11.16s/it]"
          ]
        },
        {
          "output_type": "stream",
          "name": "stdout",
          "text": [
            "\n",
            "Clean accuracy: 98.6056984498138\n",
            "Attack success rate: 100.0\n",
            "Pruned channel index: 19\n",
            "361/361 [==============================] - 4s 12ms/step\n",
            "361/361 [==============================] - 4s 11ms/step\n"
          ]
        },
        {
          "output_type": "stream",
          "name": "stderr",
          "text": [
            "\r 67%|██████▋   | 40/60 [07:15<03:42, 11.12s/it]"
          ]
        },
        {
          "output_type": "stream",
          "name": "stdout",
          "text": [
            "\n",
            "Clean accuracy: 98.57105741751104\n",
            "Attack success rate: 100.0\n",
            "Pruned channel index: 43\n",
            "361/361 [==============================] - 4s 12ms/step\n",
            "361/361 [==============================] - 4s 11ms/step\n",
            "\n",
            "Clean accuracy: 98.53641638520828\n",
            "Attack success rate: 100.0\n",
            "Pruned channel index: 58\n"
          ]
        },
        {
          "output_type": "stream",
          "name": "stderr",
          "text": [
            "\r 68%|██████▊   | 41/60 [07:25<03:28, 10.96s/it]"
          ]
        },
        {
          "output_type": "stream",
          "name": "stdout",
          "text": [
            "361/361 [==============================] - 4s 11ms/step\n",
            "361/361 [==============================] - 4s 12ms/step\n"
          ]
        },
        {
          "output_type": "stream",
          "name": "stderr",
          "text": [
            "\r 70%|███████   | 42/60 [07:36<03:16, 10.89s/it]"
          ]
        },
        {
          "output_type": "stream",
          "name": "stdout",
          "text": [
            "\n",
            "Clean accuracy: 98.19000606218066\n",
            "Attack success rate: 100.0\n",
            "Pruned channel index: 3\n",
            "361/361 [==============================] - 4s 11ms/step\n",
            "361/361 [==============================] - 4s 12ms/step\n"
          ]
        },
        {
          "output_type": "stream",
          "name": "stderr",
          "text": [
            "\r 72%|███████▏  | 43/60 [07:48<03:09, 11.16s/it]"
          ]
        },
        {
          "output_type": "stream",
          "name": "stdout",
          "text": [
            "\n",
            "Clean accuracy: 97.65307006148784\n",
            "Attack success rate: 100.0\n",
            "Pruned channel index: 42\n",
            "361/361 [==============================] - 4s 12ms/step\n",
            "361/361 [==============================] - 4s 12ms/step\n"
          ]
        },
        {
          "output_type": "stream",
          "name": "stderr",
          "text": [
            "\r 73%|███████▎  | 44/60 [07:59<02:56, 11.01s/it]"
          ]
        },
        {
          "output_type": "stream",
          "name": "stdout",
          "text": [
            "\n",
            "Clean accuracy: 97.50584567420108\n",
            "Attack success rate: 100.0\n",
            "Pruned channel index: 1\n",
            "361/361 [==============================] - 4s 12ms/step\n"
          ]
        },
        {
          "output_type": "stream",
          "name": "stderr",
          "text": [
            "WARNING:tensorflow:Compiled the loaded model, but the compiled metrics have yet to be built. `model.compile_metrics` will be empty until you train or evaluate the model.\n"
          ]
        },
        {
          "output_type": "stream",
          "name": "stdout",
          "text": [
            "Accuracy dropped at least 2%, model saved\n",
            "361/361 [==============================] - 4s 12ms/step\n"
          ]
        },
        {
          "output_type": "stream",
          "name": "stderr",
          "text": [
            "\r 75%|███████▌  | 45/60 [08:09<02:43, 10.92s/it]"
          ]
        },
        {
          "output_type": "stream",
          "name": "stdout",
          "text": [
            "\n",
            "Clean accuracy: 95.75647354291158\n",
            "Attack success rate: 100.0\n",
            "Pruned channel index: 29\n",
            "361/361 [==============================] - 4s 11ms/step\n",
            "361/361 [==============================] - 4s 12ms/step\n",
            "\n",
            "Clean accuracy: 95.20221702606739\n",
            "Attack success rate: 99.9913397419243\n",
            "Pruned channel index: 16\n"
          ]
        },
        {
          "output_type": "stream",
          "name": "stderr",
          "text": [
            "\r 77%|███████▋  | 46/60 [08:20<02:32, 10.89s/it]"
          ]
        },
        {
          "output_type": "stream",
          "name": "stdout",
          "text": [
            "361/361 [==============================] - 4s 11ms/step\n",
            "361/361 [==============================] - 4s 11ms/step\n",
            "\n",
            "Clean accuracy: 94.7172425738287\n",
            "Attack success rate: 99.9913397419243\n",
            "Pruned channel index: 56\n"
          ]
        },
        {
          "output_type": "stream",
          "name": "stderr",
          "text": [
            "\r 78%|███████▊  | 47/60 [08:31<02:22, 10.99s/it]"
          ]
        },
        {
          "output_type": "stream",
          "name": "stdout",
          "text": [
            "361/361 [==============================] - 5s 12ms/step\n"
          ]
        },
        {
          "output_type": "stream",
          "name": "stderr",
          "text": [
            "WARNING:tensorflow:Compiled the loaded model, but the compiled metrics have yet to be built. `model.compile_metrics` will be empty until you train or evaluate the model.\n"
          ]
        },
        {
          "output_type": "stream",
          "name": "stdout",
          "text": [
            "Accuracy dropped at least 4%, model saved\n",
            "361/361 [==============================] - 4s 12ms/step\n"
          ]
        },
        {
          "output_type": "stream",
          "name": "stderr",
          "text": [
            "\r 80%|████████  | 48/60 [08:43<02:13, 11.09s/it]"
          ]
        },
        {
          "output_type": "stream",
          "name": "stdout",
          "text": [
            "\n",
            "Clean accuracy: 92.09318437689443\n",
            "Attack success rate: 99.9913397419243\n",
            "Pruned channel index: 46\n",
            "361/361 [==============================] - 5s 14ms/step\n",
            "361/361 [==============================] - 4s 11ms/step\n"
          ]
        },
        {
          "output_type": "stream",
          "name": "stderr",
          "text": [
            "\r 82%|████████▏ | 49/60 [08:54<02:03, 11.26s/it]"
          ]
        },
        {
          "output_type": "stream",
          "name": "stdout",
          "text": [
            "\n",
            "Clean accuracy: 91.49562656967177\n",
            "Attack success rate: 99.9913397419243\n",
            "Pruned channel index: 5\n",
            "361/361 [==============================] - 4s 11ms/step\n",
            "361/361 [==============================] - 4s 11ms/step\n"
          ]
        },
        {
          "output_type": "stream",
          "name": "stderr",
          "text": [
            "\r 83%|████████▎ | 50/60 [09:05<01:49, 10.99s/it]"
          ]
        },
        {
          "output_type": "stream",
          "name": "stdout",
          "text": [
            "\n",
            "Clean accuracy: 91.01931237550879\n",
            "Attack success rate: 99.98267948384861\n",
            "Pruned channel index: 8\n",
            "361/361 [==============================] - 4s 11ms/step\n",
            "361/361 [==============================] - 4s 11ms/step\n"
          ]
        },
        {
          "output_type": "stream",
          "name": "stderr",
          "text": [
            "\r 85%|████████▌ | 51/60 [09:16<01:39, 11.08s/it]"
          ]
        },
        {
          "output_type": "stream",
          "name": "stdout",
          "text": [
            "\n",
            "Clean accuracy: 89.17467740538669\n",
            "Attack success rate: 80.73958603966398\n",
            "Pruned channel index: 11\n",
            "361/361 [==============================] - 4s 12ms/step\n"
          ]
        },
        {
          "output_type": "stream",
          "name": "stderr",
          "text": [
            "WARNING:tensorflow:Compiled the loaded model, but the compiled metrics have yet to be built. `model.compile_metrics` will be empty until you train or evaluate the model.\n"
          ]
        },
        {
          "output_type": "stream",
          "name": "stdout",
          "text": [
            "Accuracy dropped at least 10%, model saved\n",
            "361/361 [==============================] - 4s 11ms/step\n"
          ]
        },
        {
          "output_type": "stream",
          "name": "stderr",
          "text": [
            "\r 87%|████████▋ | 52/60 [09:27<01:27, 10.93s/it]"
          ]
        },
        {
          "output_type": "stream",
          "name": "stdout",
          "text": [
            "\n",
            "Clean accuracy: 84.43751623798389\n",
            "Attack success rate: 77.015675067117\n",
            "Pruned channel index: 54\n",
            "361/361 [==============================] - 4s 11ms/step\n",
            "361/361 [==============================] - 4s 12ms/step\n"
          ]
        },
        {
          "output_type": "stream",
          "name": "stderr",
          "text": [
            "\r 88%|████████▊ | 53/60 [09:37<01:15, 10.79s/it]"
          ]
        },
        {
          "output_type": "stream",
          "name": "stdout",
          "text": [
            "\n",
            "Clean accuracy: 76.48739932449988\n",
            "Attack success rate: 35.71490430414826\n",
            "Pruned channel index: 10\n",
            "361/361 [==============================] - 4s 11ms/step\n",
            "361/361 [==============================] - 7s 19ms/step\n"
          ]
        },
        {
          "output_type": "stream",
          "name": "stderr",
          "text": [
            "\r 90%|█████████ | 54/60 [09:51<01:09, 11.64s/it]"
          ]
        },
        {
          "output_type": "stream",
          "name": "stdout",
          "text": [
            "\n",
            "Clean accuracy: 54.8627349095003\n",
            "Attack success rate: 6.954187234779596\n",
            "Pruned channel index: 28\n",
            "361/361 [==============================] - 4s 12ms/step\n",
            "361/361 [==============================] - 4s 11ms/step\n"
          ]
        },
        {
          "output_type": "stream",
          "name": "stderr",
          "text": [
            "\r 92%|█████████▏| 55/60 [10:02<00:57, 11.57s/it]"
          ]
        },
        {
          "output_type": "stream",
          "name": "stdout",
          "text": [
            "\n",
            "Clean accuracy: 27.08928726076037\n",
            "Attack success rate: 0.4243526457088421\n",
            "Pruned channel index: 35\n",
            "361/361 [==============================] - 4s 11ms/step\n",
            "361/361 [==============================] - 4s 11ms/step\n"
          ]
        },
        {
          "output_type": "stream",
          "name": "stderr",
          "text": [
            "\r 93%|█████████▎| 56/60 [10:12<00:44, 11.22s/it]"
          ]
        },
        {
          "output_type": "stream",
          "name": "stdout",
          "text": [
            "\n",
            "Clean accuracy: 13.87373343725643\n",
            "Attack success rate: 0.0\n",
            "Pruned channel index: 18\n",
            "361/361 [==============================] - 4s 11ms/step\n",
            "361/361 [==============================] - 4s 12ms/step\n"
          ]
        },
        {
          "output_type": "stream",
          "name": "stderr",
          "text": [
            "\r 95%|█████████▌| 57/60 [10:24<00:33, 11.18s/it]"
          ]
        },
        {
          "output_type": "stream",
          "name": "stdout",
          "text": [
            "\n",
            "Clean accuracy: 7.101411622066338\n",
            "Attack success rate: 0.0\n",
            "Pruned channel index: 4\n",
            "361/361 [==============================] - 4s 11ms/step\n",
            "361/361 [==============================] - 4s 11ms/step\n",
            "\n",
            "Clean accuracy: 1.5501861955486274\n",
            "Attack success rate: 0.0\n",
            "Pruned channel index: 7\n"
          ]
        },
        {
          "output_type": "stream",
          "name": "stderr",
          "text": [
            "\r 97%|█████████▋| 58/60 [10:34<00:21, 10.92s/it]"
          ]
        },
        {
          "output_type": "stream",
          "name": "stdout",
          "text": [
            "361/361 [==============================] - 4s 12ms/step\n",
            "361/361 [==============================] - 4s 11ms/step\n",
            "\n",
            "Clean accuracy: 0.7188014202823244\n",
            "Attack success rate: 0.0\n",
            "Pruned channel index: 52\n"
          ]
        },
        {
          "output_type": "stream",
          "name": "stderr",
          "text": [
            "\r 98%|█████████▊| 59/60 [10:44<00:10, 10.81s/it]"
          ]
        },
        {
          "output_type": "stream",
          "name": "stdout",
          "text": [
            "361/361 [==============================] - 4s 11ms/step\n",
            "361/361 [==============================] - 4s 11ms/step\n",
            "\n",
            "Clean accuracy: 0.0779423226812159\n",
            "Attack success rate: 0.0\n",
            "Pruned channel index: 57\n"
          ]
        },
        {
          "output_type": "stream",
          "name": "stderr",
          "text": [
            "100%|██████████| 60/60 [10:55<00:00, 10.92s/it]\n"
          ]
        }
      ]
    },
    {
      "cell_type": "code",
      "source": [
        "print(\"Clean Accuracy: \", classification_accuracy)\n",
        "print(\"Attack Success Rate: \", attack_success_rate)"
      ],
      "metadata": {
        "colab": {
          "base_uri": "https://localhost:8080/"
        },
        "id": "YV85DiB_DcZJ",
        "outputId": "dfbb8de1-63b1-4df6-d8af-94d760f338ff"
      },
      "execution_count": 71,
      "outputs": [
        {
          "output_type": "stream",
          "name": "stdout",
          "text": [
            "Clean Accuracy:  [98.64899974019225, 98.64899974019225, 98.64899974019225, 98.64899974019225, 98.64899974019225, 98.64899974019225, 98.64899974019225, 98.64899974019225, 98.64899974019225, 98.64899974019225, 98.64899974019225, 98.64899974019225, 98.64899974019225, 98.64899974019225, 98.64899974019225, 98.64899974019225, 98.64899974019225, 98.64899974019225, 98.64899974019225, 98.64899974019225, 98.64899974019225, 98.64899974019225, 98.64899974019225, 98.64899974019225, 98.64899974019225, 98.64899974019225, 98.64899974019225, 98.64899974019225, 98.64899974019225, 98.64899974019225, 98.64899974019225, 98.64899974019225, 98.64899974019225, 98.64033948211657, 98.64033948211657, 98.63167922404088, 98.65765999826795, 98.64899974019225, 98.6056984498138, 98.57105741751104, 98.53641638520828, 98.19000606218066, 97.65307006148784, 97.50584567420108, 95.75647354291158, 95.20221702606739, 94.7172425738287, 92.09318437689443, 91.49562656967177, 91.01931237550879, 89.17467740538669, 84.43751623798389, 76.48739932449988, 54.8627349095003, 27.08928726076037, 13.87373343725643, 7.101411622066338, 1.5501861955486274, 0.7188014202823244, 0.0779423226812159]\n",
            "Attack Success Rate:  [100.0, 100.0, 100.0, 100.0, 100.0, 100.0, 100.0, 100.0, 100.0, 100.0, 100.0, 100.0, 100.0, 100.0, 100.0, 100.0, 100.0, 100.0, 100.0, 100.0, 100.0, 100.0, 100.0, 100.0, 100.0, 100.0, 100.0, 100.0, 100.0, 100.0, 100.0, 100.0, 100.0, 100.0, 100.0, 100.0, 100.0, 100.0, 100.0, 100.0, 100.0, 100.0, 100.0, 100.0, 100.0, 99.9913397419243, 99.9913397419243, 99.9913397419243, 99.9913397419243, 99.98267948384861, 80.73958603966398, 77.015675067117, 35.71490430414826, 6.954187234779596, 0.4243526457088421, 0.0, 0.0, 0.0, 0.0, 0.0]\n"
          ]
        }
      ]
    },
    {
      "cell_type": "code",
      "source": [
        "indices = np.where(np.array(classification_accuracy) <= (original_clean_accuracy - 30))[0]\n",
        "print(\"The attack success rate when the accuracy drops at least 30% from the original:\", attack_success_rate[indices[0]])"
      ],
      "metadata": {
        "colab": {
          "base_uri": "https://localhost:8080/"
        },
        "id": "Fa1-o46GJPwz",
        "outputId": "5afe18a2-192d-42b2-f037-036fc0fe5b5b"
      },
      "execution_count": 72,
      "outputs": [
        {
          "output_type": "stream",
          "name": "stdout",
          "text": [
            "The attack success rate when the accuracy drops at least 30% from the original: 6.954187234779596\n"
          ]
        }
      ]
    },
    {
      "cell_type": "code",
      "source": [
        "class Good(keras.Model):\n",
        "    def __init__(self, base_model, base_model_prime):\n",
        "        super(Good, self).__init__()\n",
        "        self.base_model = base_model\n",
        "        self.base_model_prime = base_model_prime\n",
        "\n",
        "    def predict(self, data):\n",
        "        y = np.argmax(self.base_model(data), axis=1)\n",
        "        y_prime = np.argmax(self.base_model_prime(data), axis=1)\n",
        "        pred = np.zeros(data.shape[0])\n",
        "        for i in range(data.shape[0]):\n",
        "            if y[i] == y_prime[i]:\n",
        "                pred[i] = y[i]\n",
        "            else:\n",
        "                pred[i] = 1283\n",
        "        return pred\n"
      ],
      "metadata": {
        "id": "cFxAPfwuKMfD"
      },
      "execution_count": 73,
      "outputs": []
    },
    {
      "cell_type": "code",
      "source": [
        "clean_test_data_path = '/content/drive/MyDrive/Lab4sa7495/cl/test.h5'\n",
        "poisoned_test_data_path = '/content/drive/MyDrive/Lab4sa7495/bd/bd_test.h5'\n",
        "pruned_model_X_2_path = 'model_X_2.h5'\n",
        "pruned_model_X_4_path = 'model_X_4.h5'\n",
        "pruned_model_X_10_path = 'model_X_10.h5'"
      ],
      "metadata": {
        "id": "RZWdycDHL83b"
      },
      "execution_count": 80,
      "outputs": []
    },
    {
      "cell_type": "code",
      "source": [
        "pruned_model_X_2 = keras.models.load_model(pruned_model_X_2_path)\n",
        "pruned_model_X_4 = keras.models.load_model(pruned_model_X_4_path)\n",
        "pruned_model_X_10 = keras.models.load_model(pruned_model_X_10_path)\n"
      ],
      "metadata": {
        "colab": {
          "base_uri": "https://localhost:8080/"
        },
        "id": "D5Rb9xjHNrIJ",
        "outputId": "a6f69cef-adef-467d-ec39-f37604032a08"
      },
      "execution_count": 81,
      "outputs": [
        {
          "output_type": "stream",
          "name": "stderr",
          "text": [
            "WARNING:tensorflow:No training configuration found in the save file, so the model was *not* compiled. Compile it manually.\n",
            "WARNING:tensorflow:No training configuration found in the save file, so the model was *not* compiled. Compile it manually.\n",
            "WARNING:tensorflow:No training configuration found in the save file, so the model was *not* compiled. Compile it manually.\n"
          ]
        }
      ]
    },
    {
      "cell_type": "code",
      "source": [
        "clean_x_test, clean_y_test = load_data(clean_test_data_path)\n",
        "poisoned_x_test, poisoned_y_test = load_data(poisoned_test_data_path)\n"
      ],
      "metadata": {
        "id": "UT79DcIWMV86"
      },
      "execution_count": 82,
      "outputs": []
    },
    {
      "cell_type": "code",
      "source": [
        "good_model_X_2 = Good(bd_net_model, pruned_model_X_2)\n",
        "good_model_X_4 = Good(bd_net_model, pruned_model_X_4)\n",
        "good_model_X_10 = Good(bd_net_model, pruned_model_X_10)"
      ],
      "metadata": {
        "id": "gGMTFdp7OpGq"
      },
      "execution_count": 83,
      "outputs": []
    },
    {
      "cell_type": "code",
      "source": [
        "clean_test_2_label_pred = np.argmax(pruned_model_X_2.predict(clean_x_test), axis=1)\n",
        "clean_test_2_accuracy = np.mean(np.equal(clean_test_2_label_pred, clean_y_test)) * 100\n",
        "print('For model with 2% dropped, the clean test data Classification accuracy:', clean_test_2_accuracy)\n",
        "\n",
        "poisoned_test_2_label_pred = np.argmax(pruned_model_X_2.predict(poisoned_x_test), axis=1)\n",
        "attack_success_rate_2 = np.mean(np.equal(poisoned_test_2_label_pred, poisoned_y_test)) * 100\n",
        "print('For model with 2% dropped, Attack Success Rate:', attack_success_rate_2)\n",
        "\n",
        "clean_test_4_label_pred = np.argmax(pruned_model_X_4.predict(clean_x_test), axis=1)\n",
        "clean_test_4_accuracy = np.mean(np.equal(clean_test_4_label_pred, clean_y_test)) * 100\n",
        "print('For model with 4% dropped, the clean test data Classification accuracy:', clean_test_4_accuracy)\n",
        "\n",
        "poisoned_test_4_label_pred = np.argmax(pruned_model_X_4.predict(poisoned_x_test), axis=1)\n",
        "attack_success_rate_4 = np.mean(np.equal(poisoned_test_4_label_pred, poisoned_y_test)) * 100\n",
        "print('For model with 4% dropped, Attack Success Rate:', attack_success_rate_4)\n",
        "\n",
        "clean_test_10_label_pred = np.argmax(pruned_model_X_10.predict(clean_x_test), axis=1)\n",
        "clean_test_10_accuracy = np.mean(np.equal(clean_test_10_label_pred, clean_y_test)) * 100\n",
        "print('For model with 10% dropped, the clean test data Classification accuracy:', clean_test_10_accuracy)\n",
        "\n",
        "poisoned_test_10_label_pred = np.argmax(pruned_model_X_10.predict(poisoned_x_test), axis=1)\n",
        "attack_success_rate_10 = np.mean(np.equal(poisoned_test_10_label_pred, poisoned_y_test)) * 100\n",
        "print('For model with 10% dropped, Attack Success Rate:', attack_success_rate_10)\n"
      ],
      "metadata": {
        "colab": {
          "base_uri": "https://localhost:8080/"
        },
        "id": "Zc8T9jB1PvY1",
        "outputId": "259a644c-d6af-415f-bc2b-e3d166de6b68"
      },
      "execution_count": 84,
      "outputs": [
        {
          "output_type": "stream",
          "name": "stdout",
          "text": [
            "401/401 [==============================] - 4s 10ms/step\n",
            "For model with 2% dropped, the clean test data Classification accuracy: 95.90023382696803\n",
            "401/401 [==============================] - 4s 11ms/step\n",
            "For model with 2% dropped, Attack Success Rate: 100.0\n",
            "401/401 [==============================] - 4s 11ms/step\n",
            "For model with 4% dropped, the clean test data Classification accuracy: 92.29150428682775\n",
            "401/401 [==============================] - 4s 10ms/step\n",
            "For model with 4% dropped, Attack Success Rate: 99.98441153546376\n",
            "401/401 [==============================] - 4s 10ms/step\n",
            "For model with 10% dropped, the clean test data Classification accuracy: 84.54403741231489\n",
            "401/401 [==============================] - 4s 11ms/step\n",
            "For model with 10% dropped, Attack Success Rate: 77.20966484801247\n"
          ]
        }
      ]
    },
    {
      "cell_type": "code",
      "source": [
        "good_clean_test_2_label_pred = good_model_X_2.predict(clean_x_test)\n",
        "good_clean_test_2_accuracy = np.mean(np.equal(clean_test_2_label_pred, clean_y_test)) * 100\n",
        "print('Combined model with 2% dropped accuracy, the clean test data classification accuracy:', good_clean_test_2_accuracy)\n",
        "\n",
        "good_poisoned_test_2_label_pred = good_model_X_2.predict(poisoned_x_test)\n",
        "good_model_asrate_2 = np.mean(np.equal(poisoned_test_2_label_pred, poisoned_y_test)) * 100\n",
        "print('Combined model with 2% dropped accuracy, Attack Success Rate:', good_model_asrate_2)\n",
        "\n",
        "good_clean_test_4_label_pred = good_model_X_4.predict(clean_x_test)\n",
        "good_clean_test_4_accuracy = np.mean(np.equal(clean_test_4_label_pred, clean_y_test)) * 100\n",
        "print('Combined model with 4% dropped accuracy, the clean test data classification accuracy:', good_clean_test_4_accuracy)\n",
        "\n",
        "good_poisoned_test_4_label_pred = good_model_X_4.predict(poisoned_x_test)\n",
        "good_model_asrate_4 = np.mean(np.equal(poisoned_test_4_label_pred, poisoned_y_test)) * 100\n",
        "print('Combined model with 4% dropped accuracy, Attack Success Rate:', good_model_asrate_4)\n",
        "\n",
        "good_clean_test_10_label_pred = good_model_X_10.predict(clean_x_test)\n",
        "good_clean_test_10_accuracy = np.mean(np.equal(good_clean_test_10_label_pred, clean_y_test)) * 100\n",
        "print('Combined model with 10% dropped accuracy, the clean test data classification accuracy:', good_clean_test_10_accuracy)\n",
        "\n",
        "good_poisoned_test_10_label_pred = good_model_X_10.predict(poisoned_x_test)\n",
        "good_model_asrate_10 = np.mean(np.equal(good_poisoned_test_10_label_pred, poisoned_y_test)) * 100\n",
        "print('Combined model with 10% dropped accuracy, Attack Success Rate:', good_model_asrate_10)\n"
      ],
      "metadata": {
        "colab": {
          "base_uri": "https://localhost:8080/"
        },
        "id": "FL-6JvKmQFhY",
        "outputId": "f82d6ed7-d305-4cc2-a474-8a3a0c212c69"
      },
      "execution_count": 85,
      "outputs": [
        {
          "output_type": "stream",
          "name": "stdout",
          "text": [
            "Combined model with 2% dropped accuracy, the clean test data classification accuracy: 95.90023382696803\n",
            "Combined model with 2% dropped accuracy, Attack Success Rate: 100.0\n",
            "Combined model with 4% dropped accuracy, the clean test data classification accuracy: 92.29150428682775\n",
            "Combined model with 4% dropped accuracy, Attack Success Rate: 99.98441153546376\n",
            "Combined model with 10% dropped accuracy, the clean test data classification accuracy: 84.3335931410756\n",
            "Combined model with 10% dropped accuracy, Attack Success Rate: 77.20966484801247\n"
          ]
        }
      ]
    }
  ]
}