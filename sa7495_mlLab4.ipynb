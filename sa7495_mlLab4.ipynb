{
  "nbformat": 4,
  "nbformat_minor": 0,
  "metadata": {
    "colab": {
      "provenance": [],
      "machine_shape": "hm"
    },
    "kernelspec": {
      "name": "python3",
      "display_name": "Python 3"
    },
    "language_info": {
      "name": "python"
    }
  },
  "cells": [
    {
      "cell_type": "code",
      "execution_count": 1,
      "metadata": {
        "colab": {
          "base_uri": "https://localhost:8080/"
        },
        "id": "V8Xmro7YA9e4",
        "outputId": "1139f249-209d-42c7-99aa-ffa06f006161"
      },
      "outputs": [
        {
          "output_type": "stream",
          "name": "stdout",
          "text": [
            "Requirement already satisfied: tensorflow in /usr/local/lib/python3.10/dist-packages (2.14.0)\n",
            "Requirement already satisfied: absl-py>=1.0.0 in /usr/local/lib/python3.10/dist-packages (from tensorflow) (1.4.0)\n",
            "Requirement already satisfied: astunparse>=1.6.0 in /usr/local/lib/python3.10/dist-packages (from tensorflow) (1.6.3)\n",
            "Requirement already satisfied: flatbuffers>=23.5.26 in /usr/local/lib/python3.10/dist-packages (from tensorflow) (23.5.26)\n",
            "Requirement already satisfied: gast!=0.5.0,!=0.5.1,!=0.5.2,>=0.2.1 in /usr/local/lib/python3.10/dist-packages (from tensorflow) (0.5.4)\n",
            "Requirement already satisfied: google-pasta>=0.1.1 in /usr/local/lib/python3.10/dist-packages (from tensorflow) (0.2.0)\n",
            "Requirement already satisfied: h5py>=2.9.0 in /usr/local/lib/python3.10/dist-packages (from tensorflow) (3.9.0)\n",
            "Requirement already satisfied: libclang>=13.0.0 in /usr/local/lib/python3.10/dist-packages (from tensorflow) (16.0.6)\n",
            "Requirement already satisfied: ml-dtypes==0.2.0 in /usr/local/lib/python3.10/dist-packages (from tensorflow) (0.2.0)\n",
            "Requirement already satisfied: numpy>=1.23.5 in /usr/local/lib/python3.10/dist-packages (from tensorflow) (1.23.5)\n",
            "Requirement already satisfied: opt-einsum>=2.3.2 in /usr/local/lib/python3.10/dist-packages (from tensorflow) (3.3.0)\n",
            "Requirement already satisfied: packaging in /usr/local/lib/python3.10/dist-packages (from tensorflow) (23.2)\n",
            "Requirement already satisfied: protobuf!=4.21.0,!=4.21.1,!=4.21.2,!=4.21.3,!=4.21.4,!=4.21.5,<5.0.0dev,>=3.20.3 in /usr/local/lib/python3.10/dist-packages (from tensorflow) (3.20.3)\n",
            "Requirement already satisfied: setuptools in /usr/local/lib/python3.10/dist-packages (from tensorflow) (67.7.2)\n",
            "Requirement already satisfied: six>=1.12.0 in /usr/local/lib/python3.10/dist-packages (from tensorflow) (1.16.0)\n",
            "Requirement already satisfied: termcolor>=1.1.0 in /usr/local/lib/python3.10/dist-packages (from tensorflow) (2.3.0)\n",
            "Requirement already satisfied: typing-extensions>=3.6.6 in /usr/local/lib/python3.10/dist-packages (from tensorflow) (4.5.0)\n",
            "Requirement already satisfied: wrapt<1.15,>=1.11.0 in /usr/local/lib/python3.10/dist-packages (from tensorflow) (1.14.1)\n",
            "Requirement already satisfied: tensorflow-io-gcs-filesystem>=0.23.1 in /usr/local/lib/python3.10/dist-packages (from tensorflow) (0.34.0)\n",
            "Requirement already satisfied: grpcio<2.0,>=1.24.3 in /usr/local/lib/python3.10/dist-packages (from tensorflow) (1.59.3)\n",
            "Requirement already satisfied: tensorboard<2.15,>=2.14 in /usr/local/lib/python3.10/dist-packages (from tensorflow) (2.14.1)\n",
            "Requirement already satisfied: tensorflow-estimator<2.15,>=2.14.0 in /usr/local/lib/python3.10/dist-packages (from tensorflow) (2.14.0)\n",
            "Requirement already satisfied: keras<2.15,>=2.14.0 in /usr/local/lib/python3.10/dist-packages (from tensorflow) (2.14.0)\n",
            "Requirement already satisfied: wheel<1.0,>=0.23.0 in /usr/local/lib/python3.10/dist-packages (from astunparse>=1.6.0->tensorflow) (0.42.0)\n",
            "Requirement already satisfied: google-auth<3,>=1.6.3 in /usr/local/lib/python3.10/dist-packages (from tensorboard<2.15,>=2.14->tensorflow) (2.17.3)\n",
            "Requirement already satisfied: google-auth-oauthlib<1.1,>=0.5 in /usr/local/lib/python3.10/dist-packages (from tensorboard<2.15,>=2.14->tensorflow) (1.0.0)\n",
            "Requirement already satisfied: markdown>=2.6.8 in /usr/local/lib/python3.10/dist-packages (from tensorboard<2.15,>=2.14->tensorflow) (3.5.1)\n",
            "Requirement already satisfied: requests<3,>=2.21.0 in /usr/local/lib/python3.10/dist-packages (from tensorboard<2.15,>=2.14->tensorflow) (2.31.0)\n",
            "Requirement already satisfied: tensorboard-data-server<0.8.0,>=0.7.0 in /usr/local/lib/python3.10/dist-packages (from tensorboard<2.15,>=2.14->tensorflow) (0.7.2)\n",
            "Requirement already satisfied: werkzeug>=1.0.1 in /usr/local/lib/python3.10/dist-packages (from tensorboard<2.15,>=2.14->tensorflow) (3.0.1)\n",
            "Requirement already satisfied: cachetools<6.0,>=2.0.0 in /usr/local/lib/python3.10/dist-packages (from google-auth<3,>=1.6.3->tensorboard<2.15,>=2.14->tensorflow) (5.3.2)\n",
            "Requirement already satisfied: pyasn1-modules>=0.2.1 in /usr/local/lib/python3.10/dist-packages (from google-auth<3,>=1.6.3->tensorboard<2.15,>=2.14->tensorflow) (0.3.0)\n",
            "Requirement already satisfied: rsa<5,>=3.1.4 in /usr/local/lib/python3.10/dist-packages (from google-auth<3,>=1.6.3->tensorboard<2.15,>=2.14->tensorflow) (4.9)\n",
            "Requirement already satisfied: requests-oauthlib>=0.7.0 in /usr/local/lib/python3.10/dist-packages (from google-auth-oauthlib<1.1,>=0.5->tensorboard<2.15,>=2.14->tensorflow) (1.3.1)\n",
            "Requirement already satisfied: charset-normalizer<4,>=2 in /usr/local/lib/python3.10/dist-packages (from requests<3,>=2.21.0->tensorboard<2.15,>=2.14->tensorflow) (3.3.2)\n",
            "Requirement already satisfied: idna<4,>=2.5 in /usr/local/lib/python3.10/dist-packages (from requests<3,>=2.21.0->tensorboard<2.15,>=2.14->tensorflow) (3.6)\n",
            "Requirement already satisfied: urllib3<3,>=1.21.1 in /usr/local/lib/python3.10/dist-packages (from requests<3,>=2.21.0->tensorboard<2.15,>=2.14->tensorflow) (2.0.7)\n",
            "Requirement already satisfied: certifi>=2017.4.17 in /usr/local/lib/python3.10/dist-packages (from requests<3,>=2.21.0->tensorboard<2.15,>=2.14->tensorflow) (2023.11.17)\n",
            "Requirement already satisfied: MarkupSafe>=2.1.1 in /usr/local/lib/python3.10/dist-packages (from werkzeug>=1.0.1->tensorboard<2.15,>=2.14->tensorflow) (2.1.3)\n",
            "Requirement already satisfied: pyasn1<0.6.0,>=0.4.6 in /usr/local/lib/python3.10/dist-packages (from pyasn1-modules>=0.2.1->google-auth<3,>=1.6.3->tensorboard<2.15,>=2.14->tensorflow) (0.5.1)\n",
            "Requirement already satisfied: oauthlib>=3.0.0 in /usr/local/lib/python3.10/dist-packages (from requests-oauthlib>=0.7.0->google-auth-oauthlib<1.1,>=0.5->tensorboard<2.15,>=2.14->tensorflow) (3.2.2)\n"
          ]
        }
      ],
      "source": [
        "%pip install tensorflow"
      ]
    },
    {
      "cell_type": "code",
      "source": [
        "%pip install h5py"
      ],
      "metadata": {
        "colab": {
          "base_uri": "https://localhost:8080/"
        },
        "id": "fs6U5ITrBBXq",
        "outputId": "26bd9c70-0a43-4d8b-f40a-9a594bf063d9"
      },
      "execution_count": 2,
      "outputs": [
        {
          "output_type": "stream",
          "name": "stdout",
          "text": [
            "Requirement already satisfied: h5py in /usr/local/lib/python3.10/dist-packages (3.9.0)\n",
            "Requirement already satisfied: numpy>=1.17.3 in /usr/local/lib/python3.10/dist-packages (from h5py) (1.23.5)\n"
          ]
        }
      ]
    },
    {
      "cell_type": "code",
      "source": [
        "%pip install tqdm\n"
      ],
      "metadata": {
        "colab": {
          "base_uri": "https://localhost:8080/"
        },
        "id": "KXiPPrxaBHx3",
        "outputId": "9bf48f08-9167-4984-d30a-a7e3ebf60964"
      },
      "execution_count": 3,
      "outputs": [
        {
          "output_type": "stream",
          "name": "stdout",
          "text": [
            "Requirement already satisfied: tqdm in /usr/local/lib/python3.10/dist-packages (4.66.1)\n"
          ]
        }
      ]
    },
    {
      "cell_type": "code",
      "source": [
        "%pip install seaborn\n"
      ],
      "metadata": {
        "colab": {
          "base_uri": "https://localhost:8080/"
        },
        "id": "k55t-S0uBKXV",
        "outputId": "2b4bc01b-c064-4936-d3ad-800493923da7"
      },
      "execution_count": 4,
      "outputs": [
        {
          "output_type": "stream",
          "name": "stdout",
          "text": [
            "Requirement already satisfied: seaborn in /usr/local/lib/python3.10/dist-packages (0.12.2)\n",
            "Requirement already satisfied: numpy!=1.24.0,>=1.17 in /usr/local/lib/python3.10/dist-packages (from seaborn) (1.23.5)\n",
            "Requirement already satisfied: pandas>=0.25 in /usr/local/lib/python3.10/dist-packages (from seaborn) (1.5.3)\n",
            "Requirement already satisfied: matplotlib!=3.6.1,>=3.1 in /usr/local/lib/python3.10/dist-packages (from seaborn) (3.7.1)\n",
            "Requirement already satisfied: contourpy>=1.0.1 in /usr/local/lib/python3.10/dist-packages (from matplotlib!=3.6.1,>=3.1->seaborn) (1.2.0)\n",
            "Requirement already satisfied: cycler>=0.10 in /usr/local/lib/python3.10/dist-packages (from matplotlib!=3.6.1,>=3.1->seaborn) (0.12.1)\n",
            "Requirement already satisfied: fonttools>=4.22.0 in /usr/local/lib/python3.10/dist-packages (from matplotlib!=3.6.1,>=3.1->seaborn) (4.45.1)\n",
            "Requirement already satisfied: kiwisolver>=1.0.1 in /usr/local/lib/python3.10/dist-packages (from matplotlib!=3.6.1,>=3.1->seaborn) (1.4.5)\n",
            "Requirement already satisfied: packaging>=20.0 in /usr/local/lib/python3.10/dist-packages (from matplotlib!=3.6.1,>=3.1->seaborn) (23.2)\n",
            "Requirement already satisfied: pillow>=6.2.0 in /usr/local/lib/python3.10/dist-packages (from matplotlib!=3.6.1,>=3.1->seaborn) (9.4.0)\n",
            "Requirement already satisfied: pyparsing>=2.3.1 in /usr/local/lib/python3.10/dist-packages (from matplotlib!=3.6.1,>=3.1->seaborn) (3.1.1)\n",
            "Requirement already satisfied: python-dateutil>=2.7 in /usr/local/lib/python3.10/dist-packages (from matplotlib!=3.6.1,>=3.1->seaborn) (2.8.2)\n",
            "Requirement already satisfied: pytz>=2020.1 in /usr/local/lib/python3.10/dist-packages (from pandas>=0.25->seaborn) (2023.3.post1)\n",
            "Requirement already satisfied: six>=1.5 in /usr/local/lib/python3.10/dist-packages (from python-dateutil>=2.7->matplotlib!=3.6.1,>=3.1->seaborn) (1.16.0)\n"
          ]
        }
      ]
    },
    {
      "cell_type": "code",
      "source": [
        "import h5py\n",
        "import numpy as np\n",
        "import keras\n",
        "import tensorflow as tf\n",
        "import matplotlib.pyplot as plt\n",
        "import pandas as pd\n",
        "import seaborn as sns\n",
        "import sys\n",
        "import warnings\n",
        "from tqdm import tqdm"
      ],
      "metadata": {
        "id": "QKha9AieBM0L"
      },
      "execution_count": 5,
      "outputs": []
    },
    {
      "cell_type": "code",
      "source": [
        "from google.colab import drive\n",
        "drive.mount('/content/drive')"
      ],
      "metadata": {
        "colab": {
          "base_uri": "https://localhost:8080/"
        },
        "id": "J4TkHLGnBPVb",
        "outputId": "3eb6f4a6-c57d-4611-e769-06d321e8d719"
      },
      "execution_count": 6,
      "outputs": [
        {
          "output_type": "stream",
          "name": "stdout",
          "text": [
            "Mounted at /content/drive\n"
          ]
        }
      ]
    },
    {
      "cell_type": "code",
      "source": [
        "clean_validation_data_path = '/content/drive/MyDrive/cl/valid.h5'\n",
        "clean_test_data_path = '/content/drive/MyDrive/cl/test.h5'\n",
        "poisoned_validation_data_path = '/content/drive/MyDrive/bd/bd_valid.h5'\n",
        "poisoned_test_data_path = '/content/drive/MyDrive/bd/bd_test.h5'\n",
        "model_path = '/content/drive/MyDrive/sunglasses_bd_net.h5'"
      ],
      "metadata": {
        "id": "dcV1eEMQiG8y"
      },
      "execution_count": 7,
      "outputs": []
    },
    {
      "cell_type": "code",
      "source": [
        "def load_data(filepath):\n",
        "    data = h5py.File(filepath, 'r')\n",
        "    x_data = np.array(data['data'])\n",
        "    y_data = np.array(data['label'])\n",
        "    x_data = x_data.transpose((0, 2, 3, 1))\n",
        "\n",
        "    return x_data, y_data\n",
        "\n",
        "clean_x_test, clean_y_test = load_data(clean_validation_data_path)\n",
        "poisoned_x_test, poisoned_y_test = load_data(poisoned_validation_data_path)\n",
        "\n",
        "poisoned_model = keras.models.load_model(model_path)\n",
        "\n",
        "clean_pred_labels = np.argmax(poisoned_model.predict(clean_x_test), axis=1)\n",
        "clean_accuracy = np.mean(np.equal(clean_pred_labels, clean_y_test)) * 100\n",
        "print('Accuracy on Clean Data:', clean_accuracy)\n",
        "\n",
        "poisoned_pred_labels = np.argmax(poisoned_model.predict(poisoned_x_test), axis=1)\n",
        "attack_success_rate = np.mean(np.equal(poisoned_pred_labels, poisoned_y_test)) * 100\n",
        "print('Attack Success Rate:', attack_success_rate)"
      ],
      "metadata": {
        "colab": {
          "base_uri": "https://localhost:8080/"
        },
        "id": "dvjJS8r-BawB",
        "outputId": "547f0a50-f414-48eb-95e0-4087761aef77"
      },
      "execution_count": 8,
      "outputs": [
        {
          "output_type": "stream",
          "name": "stdout",
          "text": [
            "361/361 [==============================] - 5s 13ms/step\n",
            "Accuracy on Clean Data: 42.25339915129471\n",
            "361/361 [==============================] - 4s 10ms/step\n",
            "Attack Success Rate: 99.9047371611674\n"
          ]
        }
      ]
    },
    {
      "cell_type": "code",
      "source": [
        "x_data, y_data = load_data(clean_validation_data_path)\n",
        "\n",
        "figure = plt.figure(figsize=(10, 10))\n",
        "columns, rows = 3, 3\n",
        "for i in range(1, columns * rows + 1):\n",
        "    index = np.random.randint(x_data.shape[0], size=1)\n",
        "    img, label = (x_data[index], y_data[index])\n",
        "    figure.add_subplot(rows, columns, i)\n",
        "    plt.title(\"Label: {}\".format(label[0]))  # Changed the print statement for clarity\n",
        "    plt.axis(\"off\")\n",
        "    plt.imshow(img[0] / 255)\n",
        "plt.show()"
      ],
      "metadata": {
        "colab": {
          "base_uri": "https://localhost:8080/",
          "height": 829
        },
        "id": "7uMaO_tVBfDh",
        "outputId": "cf82faad-cbbb-42d5-a00a-f5def51d93b0"
      },
      "execution_count": 9,
      "outputs": [
        {
          "output_type": "display_data",
          "data": {
            "text/plain": [
              "<Figure size 1000x1000 with 9 Axes>"
            ],
            "image/png": "[encoded data removed]"
          },
          "metadata": {}
        }
      ]
    },
    {
      "cell_type": "code",
      "source": [
        "x_poisoned_data, y_poisoned_data = load_data(poisoned_validation_data_path)\n",
        "\n",
        "figure = plt.figure(figsize=(10, 8))\n",
        "columns, rows = 3, 3\n",
        "for i in range(1, columns * rows + 1):\n",
        "    index = np.random.randint(x_poisoned_data.shape[0], size=1)\n",
        "    img, label = (x_poisoned_data[index], y_poisoned_data[index])\n",
        "    figure.add_subplot(rows, columns, i)\n",
        "    plt.title(\"Label: {}\".format(label[0]))\n",
        "    plt.axis(\"off\")\n",
        "    plt.imshow(img[0] / 255)\n",
        "plt.show()"
      ],
      "metadata": {
        "colab": {
          "base_uri": "https://localhost:8080/",
          "height": 675
        },
        "id": "wwJyXD67CP2a",
        "outputId": "d41fec01-a93f-443f-a396-5e37b8885ad7"
      },
      "execution_count": 10,
      "outputs": [
        {
          "output_type": "display_data",
          "data": {
            "text/plain": [
              "<Figure size 1000x800 with 9 Axes>"
            ],
            "image/png": "[encoded data removed]"
          },
          "metadata": {}
        }
      ]
    },
    {
      "cell_type": "code",
      "source": [
        "bd_net_model = keras.models.load_model(model_path)"
      ],
      "metadata": {
        "id": "_5FAAWpBCZ68"
      },
      "execution_count": 11,
      "outputs": []
    },
    {
      "cell_type": "code",
      "source": [
        "bd_net_model = keras.models.load_model(model_path)  # Loaded the bd_net model\n",
        "\n",
        "# If you want to print the summary of the loaded model:\n",
        "print(\"Summary of the bd_net model:\")\n",
        "bd_net_model.summary()"
      ],
      "metadata": {
        "colab": {
          "base_uri": "https://localhost:8080/"
        },
        "id": "5jiQpjWOCc1Z",
        "outputId": "719b9376-65c7-4335-e195-99c36314502e"
      },
      "execution_count": 12,
      "outputs": [
        {
          "output_type": "stream",
          "name": "stdout",
          "text": [
            "Summary of the bd_net model:\n",
            "Model: \"model_1\"\n",
            "__________________________________________________________________________________________________\n",
            " Layer (type)                Output Shape                 Param #   Connected to                  \n",
            "==================================================================================================\n",
            " input (InputLayer)          [(None, 55, 47, 3)]          0         []                            \n",
            "                                                                                                  \n",
            " conv_1 (Conv2D)             (None, 52, 44, 20)           980       ['input[0][0]']               \n",
            "                                                                                                  \n",
            " pool_1 (MaxPooling2D)       (None, 26, 22, 20)           0         ['conv_1[0][0]']              \n",
            "                                                                                                  \n",
            " conv_2 (Conv2D)             (None, 24, 20, 40)           7240      ['pool_1[0][0]']              \n",
            "                                                                                                  \n",
            " pool_2 (MaxPooling2D)       (None, 12, 10, 40)           0         ['conv_2[0][0]']              \n",
            "                                                                                                  \n",
            " conv_3 (Conv2D)             (None, 10, 8, 60)            21660     ['pool_2[0][0]']              \n",
            "                                                                                                  \n",
            " pool_3 (MaxPooling2D)       (None, 5, 4, 60)             0         ['conv_3[0][0]']              \n",
            "                                                                                                  \n",
            " conv_4 (Conv2D)             (None, 4, 3, 80)             19280     ['pool_3[0][0]']              \n",
            "                                                                                                  \n",
            " flatten_1 (Flatten)         (None, 1200)                 0         ['pool_3[0][0]']              \n",
            "                                                                                                  \n",
            " flatten_2 (Flatten)         (None, 960)                  0         ['conv_4[0][0]']              \n",
            "                                                                                                  \n",
            " fc_1 (Dense)                (None, 160)                  192160    ['flatten_1[0][0]']           \n",
            "                                                                                                  \n",
            " fc_2 (Dense)                (None, 160)                  153760    ['flatten_2[0][0]']           \n",
            "                                                                                                  \n",
            " add_1 (Add)                 (None, 160)                  0         ['fc_1[0][0]',                \n",
            "                                                                     'fc_2[0][0]']                \n",
            "                                                                                                  \n",
            " activation_1 (Activation)   (None, 160)                  0         ['add_1[0][0]']               \n",
            "                                                                                                  \n",
            " output (Dense)              (None, 1283)                 206563    ['activation_1[0][0]']        \n",
            "                                                                                                  \n",
            "==================================================================================================\n",
            "Total params: 601643 (2.30 MB)\n",
            "Trainable params: 601643 (2.30 MB)\n",
            "Non-trainable params: 0 (0.00 Byte)\n",
            "__________________________________________________________________________________________________\n"
          ]
        }
      ]
    },
    {
      "cell_type": "code",
      "source": [
        "keras.backend.clear_session()"
      ],
      "metadata": {
        "id": "mR60kWPZCg3u"
      },
      "execution_count": 13,
      "outputs": []
    },
    {
      "cell_type": "code",
      "source": [
        "clean_val_x, clean_val_y = load_data(clean_validation_data_path)\n",
        "poisoned_val_x, poisoned_val_y = load_data(poisoned_validation_data_path)"
      ],
      "metadata": {
        "id": "X0EgEO8iCkY_"
      },
      "execution_count": 14,
      "outputs": []
    },
    {
      "cell_type": "code",
      "source": [
        "original_clean_accuracy = 42.25339915129471  # Original classification accuracy\n",
        "model_copy = keras.models.clone_model(bd_net_model)\n",
        "model_copy.set_weights(bd_net_model.get_weights())\n",
        "prune_index = []\n",
        "classification_accuracy = []  # Classification accuracy\n",
        "attack_success_rate = []   # Attack success rate\n",
        "saved_model_flags = np.zeros(3, dtype=bool)"
      ],
      "metadata": {
        "id": "L5SG1DA5Cnc1"
      },
      "execution_count": 15,
      "outputs": []
    },
    {
      "cell_type": "code",
      "source": [
        "layer_output = model_copy.get_layer('pool_3').output\n",
        "intermediate_model = keras.models.Model(inputs=model_copy.input, outputs=layer_output)\n",
        "intermediate_predictions = intermediate_model.predict(clean_x_test)  # Assuming clean_x_test is used here\n",
        "temp_mean = np.mean(intermediate_predictions, axis=(0, 1, 2))\n",
        "sorted_indices = np.argsort(temp_mean)\n",
        "weights_layer_5 = model_copy.layers[5].get_weights()[0]\n",
        "biases_layer_5 = model_copy.layers[5].get_weights()[1]"
      ],
      "metadata": {
        "colab": {
          "base_uri": "https://localhost:8080/"
        },
        "id": "mot2rke4Cq6r",
        "outputId": "909b05ad-52fe-447b-a304-3c9fa3226f95"
      },
      "execution_count": 16,
      "outputs": [
        {
          "output_type": "stream",
          "name": "stdout",
          "text": [
            "361/361 [==============================] - 3s 9ms/step\n"
          ]
        }
      ]
    },
    {
      "cell_type": "code",
      "source": [
        "for channel_idx in tqdm(sorted_indices):\n",
        "    weights_layer_0 = model_copy.layers[5].get_weights()[0]\n",
        "    biases_layer_0 = model_copy.layers[5].get_weights()[1]\n",
        "\n",
        "    weights_layer_0[:, :, :, channel_idx] = 0\n",
        "    biases_layer_0[channel_idx] = 0\n",
        "\n",
        "    model_copy.layers[5].set_weights([weights_layer_0, biases_layer_0])\n",
        "\n",
        "    cl_label_pred = np.argmax(model_copy.predict(clean_x_test), axis=1)\n",
        "    clean_accuracy_after = np.mean(np.equal(cl_label_pred, clean_y_test)) * 100\n",
        "\n",
        "    if (original_clean_accuracy - clean_accuracy_after >= 2 and not saved_model_flags[0]):\n",
        "        print(\"Accuracy dropped at least 2%, model saved\")\n",
        "        model_copy.save('model_X_2.h5')\n",
        "        saved_model_flags[0] = True\n",
        "\n",
        "    if (original_clean_accuracy - clean_accuracy_after >= 4 and not saved_model_flags[1]):\n",
        "        print(\"Accuracy dropped at least 4%, model saved\")\n",
        "        model_copy.save('model_X_4.h5')\n",
        "        saved_model_flags[1] = True\n",
        "\n",
        "    if (original_clean_accuracy - clean_accuracy_after >= 10 and not saved_model_flags[2]):\n",
        "        print(\"Accuracy dropped at least 10%, model saved\")\n",
        "        model_copy.save('model_X_10.h5')\n",
        "        saved_model_flags[2] = True\n",
        "\n",
        "    classification_accuracy.append(clean_accuracy_after)\n",
        "\n",
        "    bd_label_pred = np.argmax(model_copy.predict(poisoned_x_test), axis=1)\n",
        "    attack_success = np.mean(np.equal(bd_label_pred, poisoned_y_test)) * 100\n",
        "    attack_success_rate.append(attack_success)\n",
        "\n",
        "    print()\n",
        "    print(\"Clean accuracy:\", clean_accuracy_after)\n",
        "    print(\"Attack success rate:\", attack_success)\n",
        "    print(\"Pruned channel index:\", channel_idx)\n",
        "    keras.backend.clear_session()"
      ],
      "metadata": {
        "colab": {
          "base_uri": "https://localhost:8080/"
        },
        "id": "qhwpMvoYC6kQ",
        "outputId": "cf97fdda-6455-473b-8812-7ade22bf9097"
      },
      "execution_count": 17,
      "outputs": [
        {
          "output_type": "stream",
          "name": "stderr",
          "text": [
            "\r  0%|          | 0/60 [00:00<?, ?it/s]"
          ]
        },
        {
          "output_type": "stream",
          "name": "stdout",
          "text": [
            "361/361 [==============================] - 4s 11ms/step\n",
            "361/361 [==============================] - 4s 10ms/step\n"
          ]
        },
        {
          "output_type": "stream",
          "name": "stderr",
          "text": [
            "\r  2%|▏         | 1/60 [00:09<09:31,  9.68s/it]"
          ]
        },
        {
          "output_type": "stream",
          "name": "stdout",
          "text": [
            "\n",
            "Clean accuracy: 42.25339915129471\n",
            "Attack success rate: 99.9047371611674\n",
            "Pruned channel index: 32\n",
            "361/361 [==============================] - 4s 12ms/step\n",
            "361/361 [==============================] - 4s 11ms/step\n"
          ]
        },
        {
          "output_type": "stream",
          "name": "stderr",
          "text": [
            "\r  3%|▎         | 2/60 [00:20<09:45, 10.09s/it]"
          ]
        },
        {
          "output_type": "stream",
          "name": "stdout",
          "text": [
            "\n",
            "Clean accuracy: 42.25339915129471\n",
            "Attack success rate: 99.9047371611674\n",
            "Pruned channel index: 44\n",
            "361/361 [==============================] - 4s 10ms/step\n",
            "361/361 [==============================] - 4s 11ms/step\n",
            "\n",
            "Clean accuracy: 42.25339915129471\n",
            "Attack success rate: 99.9047371611674\n",
            "Pruned channel index: 49\n"
          ]
        },
        {
          "output_type": "stream",
          "name": "stderr",
          "text": [
            "\r  5%|▌         | 3/60 [00:29<09:24,  9.91s/it]"
          ]
        },
        {
          "output_type": "stream",
          "name": "stdout",
          "text": [
            "361/361 [==============================] - 4s 11ms/step\n",
            "361/361 [==============================] - 4s 10ms/step\n"
          ]
        },
        {
          "output_type": "stream",
          "name": "stderr",
          "text": [
            "\r  7%|▋         | 4/60 [00:39<09:10,  9.82s/it]"
          ]
        },
        {
          "output_type": "stream",
          "name": "stdout",
          "text": [
            "\n",
            "Clean accuracy: 42.2620594093704\n",
            "Attack success rate: 99.9047371611674\n",
            "Pruned channel index: 37\n",
            "361/361 [==============================] - 4s 11ms/step\n",
            "361/361 [==============================] - 4s 11ms/step\n",
            "\n",
            "Clean accuracy: 42.2620594093704\n",
            "Attack success rate: 99.9047371611674\n",
            "Pruned channel index: 36\n"
          ]
        },
        {
          "output_type": "stream",
          "name": "stderr",
          "text": [
            "\r  8%|▊         | 5/60 [00:49<09:07,  9.96s/it]"
          ]
        },
        {
          "output_type": "stream",
          "name": "stdout",
          "text": [
            "361/361 [==============================] - 4s 10ms/step\n",
            "361/361 [==============================] - 4s 10ms/step\n"
          ]
        },
        {
          "output_type": "stream",
          "name": "stderr",
          "text": [
            "\r 10%|█         | 6/60 [01:00<09:11, 10.20s/it]"
          ]
        },
        {
          "output_type": "stream",
          "name": "stdout",
          "text": [
            "\n",
            "Clean accuracy: 42.2620594093704\n",
            "Attack success rate: 99.9047371611674\n",
            "Pruned channel index: 31\n",
            "361/361 [==============================] - 4s 10ms/step\n",
            "361/361 [==============================] - 4s 10ms/step\n"
          ]
        },
        {
          "output_type": "stream",
          "name": "stderr",
          "text": [
            "\r 12%|█▏        | 7/60 [01:09<08:48,  9.97s/it]"
          ]
        },
        {
          "output_type": "stream",
          "name": "stdout",
          "text": [
            "\n",
            "Clean accuracy: 42.25339915129471\n",
            "Attack success rate: 99.9047371611674\n",
            "Pruned channel index: 50\n",
            "361/361 [==============================] - 4s 11ms/step\n",
            "361/361 [==============================] - 4s 11ms/step\n"
          ]
        },
        {
          "output_type": "stream",
          "name": "stderr",
          "text": [
            "\r 13%|█▎        | 8/60 [01:20<08:57, 10.33s/it]"
          ]
        },
        {
          "output_type": "stream",
          "name": "stdout",
          "text": [
            "\n",
            "Clean accuracy: 42.24473889321902\n",
            "Attack success rate: 99.9047371611674\n",
            "Pruned channel index: 48\n",
            "361/361 [==============================] - 4s 10ms/step\n",
            "361/361 [==============================] - 4s 11ms/step\n"
          ]
        },
        {
          "output_type": "stream",
          "name": "stderr",
          "text": [
            "\r 15%|█▌        | 9/60 [01:31<08:53, 10.46s/it]"
          ]
        },
        {
          "output_type": "stream",
          "name": "stdout",
          "text": [
            "\n",
            "Clean accuracy: 42.227418377067636\n",
            "Attack success rate: 99.9047371611674\n",
            "Pruned channel index: 33\n",
            "361/361 [==============================] - 4s 10ms/step\n",
            "361/361 [==============================] - 4s 10ms/step\n"
          ]
        },
        {
          "output_type": "stream",
          "name": "stderr",
          "text": [
            "\r 17%|█▋        | 10/60 [01:41<08:29, 10.18s/it]"
          ]
        },
        {
          "output_type": "stream",
          "name": "stdout",
          "text": [
            "\n",
            "Clean accuracy: 42.184117086689184\n",
            "Attack success rate: 99.9047371611674\n",
            "Pruned channel index: 14\n",
            "361/361 [==============================] - 4s 11ms/step\n",
            "361/361 [==============================] - 4s 10ms/step\n",
            "\n",
            "Clean accuracy: 42.07153373170521\n",
            "Attack success rate: 99.9047371611674\n",
            "Pruned channel index: 35\n"
          ]
        },
        {
          "output_type": "stream",
          "name": "stderr",
          "text": [
            "\r 18%|█▊        | 11/60 [01:52<08:29, 10.39s/it]"
          ]
        },
        {
          "output_type": "stream",
          "name": "stdout",
          "text": [
            "361/361 [==============================] - 4s 10ms/step\n",
            "361/361 [==============================] - 4s 11ms/step\n"
          ]
        },
        {
          "output_type": "stream",
          "name": "stderr",
          "text": [
            "\r 20%|██        | 12/60 [02:01<08:09, 10.21s/it]"
          ]
        },
        {
          "output_type": "stream",
          "name": "stdout",
          "text": [
            "\n",
            "Clean accuracy: 42.097514505932274\n",
            "Attack success rate: 99.9047371611674\n",
            "Pruned channel index: 34\n",
            "361/361 [==============================] - 4s 10ms/step\n",
            "361/361 [==============================] - 4s 10ms/step\n"
          ]
        },
        {
          "output_type": "stream",
          "name": "stderr",
          "text": [
            "\r 22%|██▏       | 13/60 [02:12<08:06, 10.35s/it]"
          ]
        },
        {
          "output_type": "stream",
          "name": "stdout",
          "text": [
            "\n",
            "Clean accuracy: 41.88100805404001\n",
            "Attack success rate: 99.9047371611674\n",
            "Pruned channel index: 1\n",
            "361/361 [==============================] - 4s 11ms/step\n",
            "361/361 [==============================] - 4s 10ms/step\n"
          ]
        },
        {
          "output_type": "stream",
          "name": "stderr",
          "text": [
            "\r 23%|██▎       | 14/60 [02:22<07:50, 10.24s/it]"
          ]
        },
        {
          "output_type": "stream",
          "name": "stdout",
          "text": [
            "\n",
            "Clean accuracy: 41.65584134407205\n",
            "Attack success rate: 99.9047371611674\n",
            "Pruned channel index: 2\n",
            "361/361 [==============================] - 4s 11ms/step\n",
            "361/361 [==============================] - 4s 11ms/step\n"
          ]
        },
        {
          "output_type": "stream",
          "name": "stderr",
          "text": [
            "\r 25%|██▌       | 15/60 [02:32<07:38, 10.19s/it]"
          ]
        },
        {
          "output_type": "stream",
          "name": "stdout",
          "text": [
            "\n",
            "Clean accuracy: 41.48263618255824\n",
            "Attack success rate: 99.9047371611674\n",
            "Pruned channel index: 42\n",
            "361/361 [==============================] - 4s 10ms/step\n",
            "361/361 [==============================] - 4s 10ms/step\n",
            "\n",
            "Clean accuracy: 41.44799515025548\n",
            "Attack success rate: 99.9047371611674\n",
            "Pruned channel index: 12\n"
          ]
        },
        {
          "output_type": "stream",
          "name": "stderr",
          "text": [
            "\r 27%|██▋       | 16/60 [02:42<07:20, 10.00s/it]"
          ]
        },
        {
          "output_type": "stream",
          "name": "stdout",
          "text": [
            "361/361 [==============================] - 4s 11ms/step\n",
            "361/361 [==============================] - 4s 11ms/step\n"
          ]
        },
        {
          "output_type": "stream",
          "name": "stderr",
          "text": [
            "\r 28%|██▊       | 17/60 [02:53<07:22, 10.28s/it]"
          ]
        },
        {
          "output_type": "stream",
          "name": "stdout",
          "text": [
            "\n",
            "Clean accuracy: 41.188187407984756\n",
            "Attack success rate: 99.89607690309171\n",
            "Pruned channel index: 24\n",
            "361/361 [==============================] - 4s 10ms/step\n",
            "361/361 [==============================] - 4s 11ms/step\n",
            "\n",
            "Clean accuracy: 40.61661037498918\n",
            "Attack success rate: 99.88741664501603\n",
            "Pruned channel index: 47\n"
          ]
        },
        {
          "output_type": "stream",
          "name": "stderr",
          "text": [
            "\r 30%|███       | 18/60 [03:02<07:06, 10.16s/it]"
          ]
        },
        {
          "output_type": "stream",
          "name": "stdout",
          "text": [
            "361/361 [==============================] - 4s 10ms/step\n"
          ]
        },
        {
          "output_type": "stream",
          "name": "stderr",
          "text": [
            "/usr/local/lib/python3.10/dist-packages/keras/src/engine/training.py:3079: UserWarning: You are saving your model as an HDF5 file via `model.save()`. This file format is considered legacy. We recommend using instead the native Keras format, e.g. `model.save('my_model.keras')`.\n",
            "  saving_api.save_model(\n",
            "WARNING:tensorflow:Compiled the loaded model, but the compiled metrics have yet to be built. `model.compile_metrics` will be empty until you train or evaluate the model.\n"
          ]
        },
        {
          "output_type": "stream",
          "name": "stdout",
          "text": [
            "Accuracy dropped at least 2%, model saved\n",
            "361/361 [==============================] - 4s 10ms/step\n",
            "\n",
            "Clean accuracy: 39.36953321208972\n",
            "Attack success rate: 99.89607690309171\n",
            "Pruned channel index: 3\n"
          ]
        },
        {
          "output_type": "stream",
          "name": "stderr",
          "text": [
            "\r 32%|███▏      | 19/60 [03:12<06:49,  9.99s/it]"
          ]
        },
        {
          "output_type": "stream",
          "name": "stdout",
          "text": [
            "361/361 [==============================] - 4s 11ms/step\n",
            "361/361 [==============================] - 4s 10ms/step\n"
          ]
        },
        {
          "output_type": "stream",
          "name": "stderr",
          "text": [
            "\r 33%|███▎      | 20/60 [03:22<06:39,  9.98s/it]"
          ]
        },
        {
          "output_type": "stream",
          "name": "stdout",
          "text": [
            "\n",
            "Clean accuracy: 38.62475101758032\n",
            "Attack success rate: 99.89607690309171\n",
            "Pruned channel index: 29\n",
            "361/361 [==============================] - 4s 10ms/step\n"
          ]
        },
        {
          "output_type": "stream",
          "name": "stderr",
          "text": [
            "WARNING:tensorflow:Compiled the loaded model, but the compiled metrics have yet to be built. `model.compile_metrics` will be empty until you train or evaluate the model.\n"
          ]
        },
        {
          "output_type": "stream",
          "name": "stdout",
          "text": [
            "Accuracy dropped at least 4%, model saved\n",
            "361/361 [==============================] - 4s 11ms/step\n"
          ]
        },
        {
          "output_type": "stream",
          "name": "stderr",
          "text": [
            "\r 35%|███▌      | 21/60 [03:32<06:28,  9.97s/it]"
          ]
        },
        {
          "output_type": "stream",
          "name": "stdout",
          "text": [
            "\n",
            "Clean accuracy: 38.1830778557201\n",
            "Attack success rate: 99.88741664501603\n",
            "Pruned channel index: 58\n",
            "361/361 [==============================] - 4s 11ms/step\n",
            "361/361 [==============================] - 4s 11ms/step\n",
            "\n",
            "Clean accuracy: "
          ]
        },
        {
          "output_type": "stream",
          "name": "stderr",
          "text": [
            "\r 37%|███▋      | 22/60 [03:42<06:16,  9.92s/it]"
          ]
        },
        {
          "output_type": "stream",
          "name": "stdout",
          "text": [
            "37.550879016194685\n",
            "Attack success rate: 99.87875638694032\n",
            "Pruned channel index: 0\n",
            "361/361 [==============================] - 4s 11ms/step\n",
            "361/361 [==============================] - 4s 10ms/step\n"
          ]
        },
        {
          "output_type": "stream",
          "name": "stderr",
          "text": [
            "\r 38%|███▊      | 23/60 [03:53<06:21, 10.31s/it]"
          ]
        },
        {
          "output_type": "stream",
          "name": "stdout",
          "text": [
            "\n",
            "Clean accuracy: 36.944660950896335\n",
            "Attack success rate: 99.89607690309171\n",
            "Pruned channel index: 8\n",
            "361/361 [==============================] - 4s 10ms/step\n",
            "361/361 [==============================] - 4s 11ms/step\n"
          ]
        },
        {
          "output_type": "stream",
          "name": "stderr",
          "text": [
            "\r 40%|████      | 24/60 [04:03<06:05, 10.16s/it]"
          ]
        },
        {
          "output_type": "stream",
          "name": "stdout",
          "text": [
            "\n",
            "Clean accuracy: 35.368493981120636\n",
            "Attack success rate: 99.85277561271326\n",
            "Pruned channel index: 11\n",
            "361/361 [==============================] - 4s 10ms/step\n",
            "361/361 [==============================] - 4s 11ms/step\n"
          ]
        },
        {
          "output_type": "stream",
          "name": "stderr",
          "text": [
            "\r 42%|████▏     | 25/60 [04:14<06:01, 10.34s/it]"
          ]
        },
        {
          "output_type": "stream",
          "name": "stdout",
          "text": [
            "\n",
            "Clean accuracy: 34.242660431280854\n",
            "Attack success rate: 99.84411535463757\n",
            "Pruned channel index: 23\n",
            "361/361 [==============================] - 4s 11ms/step\n",
            "361/361 [==============================] - 4s 10ms/step\n"
          ]
        },
        {
          "output_type": "stream",
          "name": "stderr",
          "text": [
            "\r 43%|████▎     | 26/60 [04:23<05:46, 10.19s/it]"
          ]
        },
        {
          "output_type": "stream",
          "name": "stdout",
          "text": [
            "\n",
            "Clean accuracy: 33.203429462197974\n",
            "Attack success rate: 99.83545509656187\n",
            "Pruned channel index: 25\n",
            "361/361 [==============================] - 4s 11ms/step\n",
            "361/361 [==============================] - 4s 11ms/step\n"
          ]
        },
        {
          "output_type": "stream",
          "name": "stderr",
          "text": [
            "\r 45%|████▌     | 27/60 [04:33<05:31, 10.05s/it]"
          ]
        },
        {
          "output_type": "stream",
          "name": "stdout",
          "text": [
            "\n",
            "Clean accuracy: 33.082185849138305\n",
            "Attack success rate: 99.77483329003203\n",
            "Pruned channel index: 52\n",
            "361/361 [==============================] - 4s 10ms/step\n",
            "361/361 [==============================] - 4s 11ms/step\n",
            "\n",
            "Clean accuracy: 32.57123062267255\n",
            "Attack success rate: 99.73153199965358\n",
            "Pruned channel index: 28\n"
          ]
        },
        {
          "output_type": "stream",
          "name": "stderr",
          "text": [
            "\r 47%|████▋     | 28/60 [04:43<05:16,  9.90s/it]"
          ]
        },
        {
          "output_type": "stream",
          "name": "stdout",
          "text": [
            "361/361 [==============================] - 4s 11ms/step\n",
            "361/361 [==============================] - 4s 10ms/step\n"
          ]
        },
        {
          "output_type": "stream",
          "name": "stderr",
          "text": [
            "\r 48%|████▊     | 29/60 [04:52<05:04,  9.83s/it]"
          ]
        },
        {
          "output_type": "stream",
          "name": "stdout",
          "text": [
            "\n",
            "Clean accuracy: 32.38070494500736\n",
            "Attack success rate: 99.67957045119945\n",
            "Pruned channel index: 57\n",
            "361/361 [==============================] - 4s 10ms/step\n"
          ]
        },
        {
          "output_type": "stream",
          "name": "stderr",
          "text": [
            "WARNING:tensorflow:Compiled the loaded model, but the compiled metrics have yet to be built. `model.compile_metrics` will be empty until you train or evaluate the model.\n"
          ]
        },
        {
          "output_type": "stream",
          "name": "stdout",
          "text": [
            "Accuracy dropped at least 10%, model saved\n",
            "361/361 [==============================] - 4s 11ms/step\n"
          ]
        },
        {
          "output_type": "stream",
          "name": "stderr",
          "text": [
            "\r 50%|█████     | 30/60 [05:02<04:53,  9.78s/it]"
          ]
        },
        {
          "output_type": "stream",
          "name": "stdout",
          "text": [
            "\n",
            "Clean accuracy: 30.96042262059409\n",
            "Attack success rate: 99.68823070927513\n",
            "Pruned channel index: 15\n",
            "361/361 [==============================] - 4s 10ms/step\n",
            "361/361 [==============================] - 4s 10ms/step\n"
          ]
        },
        {
          "output_type": "stream",
          "name": "stderr",
          "text": [
            "\r 52%|█████▏    | 31/60 [05:12<04:41,  9.72s/it]"
          ]
        },
        {
          "output_type": "stream",
          "name": "stdout",
          "text": [
            "\n",
            "Clean accuracy: 30.64865332986923\n",
            "Attack success rate: 99.70555122542652\n",
            "Pruned channel index: 16\n",
            "361/361 [==============================] - 4s 11ms/step\n",
            "361/361 [==============================] - 4s 10ms/step\n"
          ]
        },
        {
          "output_type": "stream",
          "name": "stderr",
          "text": [
            "\r 53%|█████▎    | 32/60 [05:21<04:33,  9.77s/it]"
          ]
        },
        {
          "output_type": "stream",
          "name": "stdout",
          "text": [
            "\n",
            "Clean accuracy: 28.630813198233305\n",
            "Attack success rate: 99.69689096735083\n",
            "Pruned channel index: 43\n",
            "361/361 [==============================] - 4s 10ms/step\n",
            "361/361 [==============================] - 4s 11ms/step\n"
          ]
        },
        {
          "output_type": "stream",
          "name": "stderr",
          "text": [
            "\r 55%|█████▌    | 33/60 [05:31<04:23,  9.76s/it]"
          ]
        },
        {
          "output_type": "stream",
          "name": "stdout",
          "text": [
            "\n",
            "Clean accuracy: 25.582402355590194\n",
            "Attack success rate: 99.5323460639127\n",
            "Pruned channel index: 41\n",
            "361/361 [==============================] - 4s 10ms/step\n",
            "361/361 [==============================] - 4s 10ms/step\n"
          ]
        },
        {
          "output_type": "stream",
          "name": "stderr",
          "text": [
            "\r 57%|█████▋    | 34/60 [05:41<04:11,  9.69s/it]"
          ]
        },
        {
          "output_type": "stream",
          "name": "stdout",
          "text": [
            "\n",
            "Clean accuracy: 20.793279639733264\n",
            "Attack success rate: 99.33316012817181\n",
            "Pruned channel index: 55\n",
            "361/361 [==============================] - 4s 11ms/step\n",
            "361/361 [==============================] - 4s 10ms/step\n"
          ]
        },
        {
          "output_type": "stream",
          "name": "stderr",
          "text": [
            "\r 58%|█████▊    | 35/60 [05:51<04:04,  9.76s/it]"
          ]
        },
        {
          "output_type": "stream",
          "name": "stdout",
          "text": [
            "\n",
            "Clean accuracy: 18.818740798475794\n",
            "Attack success rate: 99.28119857971768\n",
            "Pruned channel index: 40\n",
            "361/361 [==============================] - 4s 10ms/step\n",
            "361/361 [==============================] - 4s 11ms/step\n"
          ]
        },
        {
          "output_type": "stream",
          "name": "stderr",
          "text": [
            "\r 60%|██████    | 36/60 [06:00<03:54,  9.78s/it]"
          ]
        },
        {
          "output_type": "stream",
          "name": "stdout",
          "text": [
            "\n",
            "Clean accuracy: 19.624144799515026\n",
            "Attack success rate: 99.37646141855028\n",
            "Pruned channel index: 9\n",
            "361/361 [==============================] - 4s 10ms/step\n",
            "361/361 [==============================] - 4s 10ms/step\n"
          ]
        },
        {
          "output_type": "stream",
          "name": "stderr",
          "text": [
            "\r 62%|██████▏   | 37/60 [06:10<03:42,  9.69s/it]"
          ]
        },
        {
          "output_type": "stream",
          "name": "stdout",
          "text": [
            "\n",
            "Clean accuracy: 17.329176409457002\n",
            "Attack success rate: 99.36780116047458\n",
            "Pruned channel index: 19\n",
            "361/361 [==============================] - 4s 11ms/step\n",
            "361/361 [==============================] - 4s 10ms/step\n"
          ]
        },
        {
          "output_type": "stream",
          "name": "stderr",
          "text": [
            "\r 63%|██████▎   | 38/60 [06:20<03:34,  9.74s/it]"
          ]
        },
        {
          "output_type": "stream",
          "name": "stdout",
          "text": [
            "\n",
            "Clean accuracy: 15.285355503594007\n",
            "Attack success rate: 99.19459599896076\n",
            "Pruned channel index: 56\n",
            "361/361 [==============================] - 4s 12ms/step\n",
            "361/361 [==============================] - 4s 11ms/step\n"
          ]
        },
        {
          "output_type": "stream",
          "name": "stderr",
          "text": [
            "\r 65%|██████▌   | 39/60 [06:31<03:33, 10.19s/it]"
          ]
        },
        {
          "output_type": "stream",
          "name": "stdout",
          "text": [
            "\n",
            "Clean accuracy: 14.523252792933231\n",
            "Attack success rate: 98.9001472243873\n",
            "Pruned channel index: 10\n",
            "361/361 [==============================] - 4s 10ms/step\n",
            "361/361 [==============================] - 4s 11ms/step\n",
            "\n",
            "Clean accuracy: 13.839092404953668\n",
            "Attack success rate: 98.91746774053867\n",
            "Pruned channel index: 18\n"
          ]
        },
        {
          "output_type": "stream",
          "name": "stderr",
          "text": [
            "\r 67%|██████▋   | 40/60 [06:42<03:28, 10.42s/it]"
          ]
        },
        {
          "output_type": "stream",
          "name": "stdout",
          "text": [
            "361/361 [==============================] - 4s 11ms/step\n",
            "361/361 [==============================] - 4s 10ms/step\n"
          ]
        },
        {
          "output_type": "stream",
          "name": "stderr",
          "text": [
            "\r 68%|██████▊   | 41/60 [06:52<03:14, 10.24s/it]"
          ]
        },
        {
          "output_type": "stream",
          "name": "stdout",
          "text": [
            "\n",
            "Clean accuracy: 12.271585693253659\n",
            "Attack success rate: 98.64033948211657\n",
            "Pruned channel index: 46\n",
            "361/361 [==============================] - 4s 10ms/step\n",
            "361/361 [==============================] - 4s 11ms/step\n",
            "\n",
            "Clean accuracy: 10.011258335498399\n",
            "Attack success rate: 98.36321122369446\n",
            "Pruned channel index: 6\n"
          ]
        },
        {
          "output_type": "stream",
          "name": "stderr",
          "text": [
            "\r 70%|███████   | 42/60 [07:03<03:07, 10.42s/it]"
          ]
        },
        {
          "output_type": "stream",
          "name": "stdout",
          "text": [
            "361/361 [==============================] - 4s 10ms/step\n",
            "361/361 [==============================] - 4s 11ms/step\n"
          ]
        },
        {
          "output_type": "stream",
          "name": "stderr",
          "text": [
            "\r 72%|███████▏  | 43/60 [07:12<02:52, 10.15s/it]"
          ]
        },
        {
          "output_type": "stream",
          "name": "stdout",
          "text": [
            "\n",
            "Clean accuracy: 8.287866978435957\n",
            "Attack success rate: 95.5572876071707\n",
            "Pruned channel index: 30\n",
            "361/361 [==============================] - 4s 11ms/step\n",
            "361/361 [==============================] - 4s 10ms/step\n"
          ]
        },
        {
          "output_type": "stream",
          "name": "stderr",
          "text": [
            "\r 73%|███████▎  | 44/60 [07:22<02:41, 10.10s/it]"
          ]
        },
        {
          "output_type": "stream",
          "name": "stdout",
          "text": [
            "\n",
            "Clean accuracy: 6.720360266735949\n",
            "Attack success rate: 92.94188966831211\n",
            "Pruned channel index: 45\n",
            "361/361 [==============================] - 4s 11ms/step\n",
            "361/361 [==============================] - 4s 11ms/step\n"
          ]
        },
        {
          "output_type": "stream",
          "name": "stderr",
          "text": [
            "\r 75%|███████▌  | 45/60 [07:32<02:31, 10.09s/it]"
          ]
        },
        {
          "output_type": "stream",
          "name": "stdout",
          "text": [
            "\n",
            "Clean accuracy: 4.945007361219364\n",
            "Attack success rate: 93.12375508790161\n",
            "Pruned channel index: 4\n",
            "361/361 [==============================] - 4s 10ms/step\n",
            "361/361 [==============================] - 4s 10ms/step\n",
            "\n",
            "Clean accuracy: 4.174244392482896\n",
            "Attack success rate: 92.78600502294968\n",
            "Pruned channel index: 53\n"
          ]
        },
        {
          "output_type": "stream",
          "name": "stderr",
          "text": [
            "\r 77%|███████▋  | 46/60 [07:42<02:18,  9.90s/it]"
          ]
        },
        {
          "output_type": "stream",
          "name": "stdout",
          "text": [
            "361/361 [==============================] - 4s 11ms/step\n",
            "361/361 [==============================] - 4s 11ms/step\n"
          ]
        },
        {
          "output_type": "stream",
          "name": "stderr",
          "text": [
            "\r 78%|███████▊  | 47/60 [07:52<02:08,  9.91s/it]"
          ]
        },
        {
          "output_type": "stream",
          "name": "stdout",
          "text": [
            "\n",
            "Clean accuracy: 4.1136225859530615\n",
            "Attack success rate: 86.44669611154411\n",
            "Pruned channel index: 20\n",
            "361/361 [==============================] - 4s 10ms/step\n",
            "361/361 [==============================] - 4s 11ms/step\n"
          ]
        },
        {
          "output_type": "stream",
          "name": "stderr",
          "text": [
            "\r 80%|████████  | 48/60 [08:01<01:58,  9.87s/it]"
          ]
        },
        {
          "output_type": "stream",
          "name": "stdout",
          "text": [
            "\n",
            "Clean accuracy: 3.524725036806097\n",
            "Attack success rate: 87.81501688750325\n",
            "Pruned channel index: 17\n",
            "361/361 [==============================] - 4s 10ms/step\n",
            "361/361 [==============================] - 4s 10ms/step\n",
            "\n",
            "Clean accuracy: 3.0830518749458733\n",
            "Attack success rate: 80.37585520048496\n",
            "Pruned channel index:"
          ]
        },
        {
          "output_type": "stream",
          "name": "stderr",
          "text": [
            "\r 82%|████████▏ | 49/60 [08:11<01:47,  9.77s/it]"
          ]
        },
        {
          "output_type": "stream",
          "name": "stdout",
          "text": [
            " 38\n",
            "361/361 [==============================] - 4s 11ms/step\n",
            "361/361 [==============================] - 4s 10ms/step\n",
            "\n",
            "Clean accuracy: 3.3168788429895213\n",
            "Attack success rate: 88.85424785658613\n",
            "Pruned channel index: 27\n"
          ]
        },
        {
          "output_type": "stream",
          "name": "stderr",
          "text": [
            "\r 83%|████████▎ | 50/60 [08:21<01:38,  9.86s/it]"
          ]
        },
        {
          "output_type": "stream",
          "name": "stdout",
          "text": [
            "361/361 [==============================] - 4s 10ms/step\n",
            "361/361 [==============================] - 4s 11ms/step\n",
            "\n",
            "Clean accuracy: 2.892526197280679\n",
            "Attack success rate: 95.72183251060882\n",
            "Pruned channel index: 26\n"
          ]
        },
        {
          "output_type": "stream",
          "name": "stderr",
          "text": [
            "\r 85%|████████▌ | 51/60 [08:31<01:28,  9.87s/it]"
          ]
        },
        {
          "output_type": "stream",
          "name": "stdout",
          "text": [
            "361/361 [==============================] - 4s 10ms/step\n",
            "361/361 [==============================] - 4s 10ms/step\n",
            "\n",
            "Clean accuracy: 2.407551745042002\n",
            "Attack success rate: 96.44929418896683\n",
            "Pruned channel index: 59\n"
          ]
        },
        {
          "output_type": "stream",
          "name": "stderr",
          "text": [
            "\r 87%|████████▋ | 52/60 [08:40<01:18,  9.75s/it]"
          ]
        },
        {
          "output_type": "stream",
          "name": "stdout",
          "text": [
            "361/361 [==============================] - 4s 11ms/step\n",
            "361/361 [==============================] - 4s 11ms/step\n"
          ]
        },
        {
          "output_type": "stream",
          "name": "stderr",
          "text": [
            "\r 88%|████████▊ | 53/60 [08:51<01:10, 10.14s/it]"
          ]
        },
        {
          "output_type": "stream",
          "name": "stdout",
          "text": [
            "\n",
            "Clean accuracy: 1.4895643890187926\n",
            "Attack success rate: 97.4019225772928\n",
            "Pruned channel index: 7\n",
            "361/361 [==============================] - 4s 11ms/step\n",
            "361/361 [==============================] - 4s 11ms/step\n",
            "\n",
            "Clean accuracy: 0.883346323720447\n",
            "Attack success rate: 98.9780895470685\n",
            "Pruned channel index: 39\n"
          ]
        },
        {
          "output_type": "stream",
          "name": "stderr",
          "text": [
            "\r 90%|█████████ | 54/60 [09:02<01:00, 10.13s/it]"
          ]
        },
        {
          "output_type": "stream",
          "name": "stdout",
          "text": [
            "361/361 [==============================] - 4s 10ms/step\n",
            "361/361 [==============================] - 4s 10ms/step\n"
          ]
        },
        {
          "output_type": "stream",
          "name": "stderr",
          "text": [
            "\r 92%|█████████▏| 55/60 [09:11<00:49,  9.93s/it]"
          ]
        },
        {
          "output_type": "stream",
          "name": "stdout",
          "text": [
            "\n",
            "Clean accuracy: 0.3117692907248636\n",
            "Attack success rate: 99.93937819347016\n",
            "Pruned channel index: 22\n",
            "361/361 [==============================] - 4s 11ms/step\n",
            "361/361 [==============================] - 4s 10ms/step\n",
            "\n",
            "Clean accuracy: 0.3117692907248636\n",
            "Attack success rate: 99.22057677318784\n",
            "Pruned channel index: 54\n"
          ]
        },
        {
          "output_type": "stream",
          "name": "stderr",
          "text": [
            "\r 93%|█████████▎| 56/60 [09:21<00:39,  9.95s/it]"
          ]
        },
        {
          "output_type": "stream",
          "name": "stdout",
          "text": [
            "361/361 [==============================] - 4s 10ms/step\n",
            "361/361 [==============================] - 4s 11ms/step\n"
          ]
        },
        {
          "output_type": "stream",
          "name": "stderr",
          "text": [
            "\r 95%|█████████▌| 57/60 [09:31<00:29,  9.88s/it]"
          ]
        },
        {
          "output_type": "stream",
          "name": "stdout",
          "text": [
            "\n",
            "Clean accuracy: 0.3550705811033169\n",
            "Attack success rate: 95.93833896250108\n",
            "Pruned channel index: 21\n",
            "361/361 [==============================] - 4s 10ms/step\n",
            "361/361 [==============================] - 4s 10ms/step\n",
            "\n",
            "Clean accuracy: 0.20784619381657576\n",
            "Attack success rate: 99.92205767731879\n",
            "Pruned channel index: 5\n"
          ]
        },
        {
          "output_type": "stream",
          "name": "stderr",
          "text": [
            "\r 97%|█████████▋| 58/60 [09:40<00:19,  9.76s/it]"
          ]
        },
        {
          "output_type": "stream",
          "name": "stdout",
          "text": [
            "361/361 [==============================] - 4s 11ms/step\n",
            "361/361 [==============================] - 4s 11ms/step\n"
          ]
        },
        {
          "output_type": "stream",
          "name": "stderr",
          "text": [
            "\r 98%|█████████▊| 59/60 [09:50<00:09,  9.82s/it]"
          ]
        },
        {
          "output_type": "stream",
          "name": "stdout",
          "text": [
            "\n",
            "Clean accuracy: 0.08660258075690655\n",
            "Attack success rate: 100.0\n",
            "Pruned channel index: 51\n",
            "361/361 [==============================] - 4s 10ms/step\n",
            "361/361 [==============================] - 4s 11ms/step\n"
          ]
        },
        {
          "output_type": "stream",
          "name": "stderr",
          "text": [
            "100%|██████████| 60/60 [10:00<00:00, 10.01s/it]"
          ]
        },
        {
          "output_type": "stream",
          "name": "stdout",
          "text": [
            "\n",
            "Clean accuracy: 0.0779423226812159\n",
            "Attack success rate: 0.0\n",
            "Pruned channel index: 13\n"
          ]
        },
        {
          "output_type": "stream",
          "name": "stderr",
          "text": [
            "\n"
          ]
        }
      ]
    },
    {
      "cell_type": "code",
      "source": [
        "print(\"Clean Accuracy: \", classification_accuracy)\n",
        "print(\"Attack Success Rate: \", attack_success_rate)"
      ],
      "metadata": {
        "colab": {
          "base_uri": "https://localhost:8080/"
        },
        "id": "YV85DiB_DcZJ",
        "outputId": "95ea2279-c6a7-44d7-cf40-14b2f1dc4908"
      },
      "execution_count": 19,
      "outputs": [
        {
          "output_type": "stream",
          "name": "stdout",
          "text": [
            "Clean Accuracy:  [42.25339915129471, 42.25339915129471, 42.25339915129471, 42.2620594093704, 42.2620594093704, 42.2620594093704, 42.25339915129471, 42.24473889321902, 42.227418377067636, 42.184117086689184, 42.07153373170521, 42.097514505932274, 41.88100805404001, 41.65584134407205, 41.48263618255824, 41.44799515025548, 41.188187407984756, 40.61661037498918, 39.36953321208972, 38.62475101758032, 38.1830778557201, 37.550879016194685, 36.944660950896335, 35.368493981120636, 34.242660431280854, 33.203429462197974, 33.082185849138305, 32.57123062267255, 32.38070494500736, 30.96042262059409, 30.64865332986923, 28.630813198233305, 25.582402355590194, 20.793279639733264, 18.818740798475794, 19.624144799515026, 17.329176409457002, 15.285355503594007, 14.523252792933231, 13.839092404953668, 12.271585693253659, 10.011258335498399, 8.287866978435957, 6.720360266735949, 4.945007361219364, 4.174244392482896, 4.1136225859530615, 3.524725036806097, 3.0830518749458733, 3.3168788429895213, 2.892526197280679, 2.407551745042002, 1.4895643890187926, 0.883346323720447, 0.3117692907248636, 0.3117692907248636, 0.3550705811033169, 0.20784619381657576, 0.08660258075690655, 0.0779423226812159]\n",
            "Attack Success Rate:  [99.9047371611674, 99.9047371611674, 99.9047371611674, 99.9047371611674, 99.9047371611674, 99.9047371611674, 99.9047371611674, 99.9047371611674, 99.9047371611674, 99.9047371611674, 99.9047371611674, 99.9047371611674, 99.9047371611674, 99.9047371611674, 99.9047371611674, 99.9047371611674, 99.89607690309171, 99.88741664501603, 99.89607690309171, 99.89607690309171, 99.88741664501603, 99.87875638694032, 99.89607690309171, 99.85277561271326, 99.84411535463757, 99.83545509656187, 99.77483329003203, 99.73153199965358, 99.67957045119945, 99.68823070927513, 99.70555122542652, 99.69689096735083, 99.5323460639127, 99.33316012817181, 99.28119857971768, 99.37646141855028, 99.36780116047458, 99.19459599896076, 98.9001472243873, 98.91746774053867, 98.64033948211657, 98.36321122369446, 95.5572876071707, 92.94188966831211, 93.12375508790161, 92.78600502294968, 86.44669611154411, 87.81501688750325, 80.37585520048496, 88.85424785658613, 95.72183251060882, 96.44929418896683, 97.4019225772928, 98.9780895470685, 99.93937819347016, 99.22057677318784, 95.93833896250108, 99.92205767731879, 100.0, 0.0]\n"
          ]
        }
      ]
    },
    {
      "cell_type": "code",
      "source": [
        "indices = np.where(np.array(classification_accuracy) <= (original_clean_accuracy - 30))[0]\n",
        "print(\"The attack success rate when the accuracy drops at least 30% from the original:\", attack_success_rate[indices[0]])"
      ],
      "metadata": {
        "colab": {
          "base_uri": "https://localhost:8080/"
        },
        "id": "Fa1-o46GJPwz",
        "outputId": "1d8ecbc9-545d-4b75-f22b-1bebf646d212"
      },
      "execution_count": 20,
      "outputs": [
        {
          "output_type": "stream",
          "name": "stdout",
          "text": [
            "The attack success rate when the accuracy drops at least 30% from the original: 98.36321122369446\n"
          ]
        }
      ]
    },
    {
      "cell_type": "code",
      "source": [
        "class Good(keras.Model):\n",
        "    def __init__(self, base_model, base_model_prime):\n",
        "        super(Good, self).__init__()\n",
        "        self.base_model = base_model\n",
        "        self.base_model_prime = base_model_prime\n",
        "\n",
        "    def predict(self, data):\n",
        "        y = np.argmax(self.base_model(data), axis=1)\n",
        "        y_prime = np.argmax(self.base_model_prime(data), axis=1)\n",
        "        pred = np.zeros(data.shape[0])\n",
        "        for i in range(data.shape[0]):\n",
        "            if y[i] == y_prime[i]:\n",
        "                pred[i] = y[i]\n",
        "            else:\n",
        "                pred[i] = 1283\n",
        "        return pred\n"
      ],
      "metadata": {
        "id": "cFxAPfwuKMfD"
      },
      "execution_count": 21,
      "outputs": []
    },
    {
      "cell_type": "code",
      "source": [
        "clean_test_data_path = '/content/drive/MyDrive/cl/test.h5'\n",
        "poisoned_test_data_path = '/content/drive/MyDrive/bd/bd_test.h5'\n",
        "pruned_model_X_2_path = 'model_X_2.h5'\n",
        "pruned_model_X_4_path = 'model_X_4.h5'\n",
        "pruned_model_X_10_path = 'model_X_10.h5'"
      ],
      "metadata": {
        "id": "RZWdycDHL83b"
      },
      "execution_count": 25,
      "outputs": []
    },
    {
      "cell_type": "code",
      "source": [
        "pruned_model_X_2 = keras.models.load_model(pruned_model_X_2_path)\n",
        "pruned_model_X_4 = keras.models.load_model(pruned_model_X_4_path)\n",
        "pruned_model_X_10 = keras.models.load_model(pruned_model_X_10_path)\n"
      ],
      "metadata": {
        "colab": {
          "base_uri": "https://localhost:8080/"
        },
        "id": "D5Rb9xjHNrIJ",
        "outputId": "81d63a58-8611-4dc1-8c7a-2c7a9d23d132"
      },
      "execution_count": 26,
      "outputs": [
        {
          "output_type": "stream",
          "name": "stderr",
          "text": [
            "WARNING:tensorflow:No training configuration found in the save file, so the model was *not* compiled. Compile it manually.\n",
            "WARNING:tensorflow:No training configuration found in the save file, so the model was *not* compiled. Compile it manually.\n",
            "WARNING:tensorflow:No training configuration found in the save file, so the model was *not* compiled. Compile it manually.\n"
          ]
        }
      ]
    },
    {
      "cell_type": "code",
      "source": [
        "clean_x_test, clean_y_test = load_data(clean_test_data_path)\n",
        "poisoned_x_test, poisoned_y_test = load_data(poisoned_test_data_path)\n"
      ],
      "metadata": {
        "id": "UT79DcIWMV86"
      },
      "execution_count": 27,
      "outputs": []
    },
    {
      "cell_type": "code",
      "source": [
        "good_model_X_2 = Good(bd_net_model, pruned_model_X_2)\n",
        "good_model_X_4 = Good(bd_net_model, pruned_model_X_4)\n",
        "good_model_X_10 = Good(bd_net_model, pruned_model_X_10)"
      ],
      "metadata": {
        "id": "gGMTFdp7OpGq"
      },
      "execution_count": 30,
      "outputs": []
    },
    {
      "cell_type": "code",
      "source": [
        "clean_test_2_label_pred = np.argmax(pruned_model_X_2.predict(clean_x_test), axis=1)\n",
        "clean_test_2_accuracy = np.mean(np.equal(clean_test_2_label_pred, clean_y_test)) * 100\n",
        "print('For model with 2% dropped, the clean test data Classification accuracy:', clean_test_2_accuracy)\n",
        "\n",
        "poisoned_test_2_label_pred = np.argmax(pruned_model_X_2.predict(poisoned_x_test), axis=1)\n",
        "attack_success_rate_2 = np.mean(np.equal(poisoned_test_2_label_pred, poisoned_y_test)) * 100\n",
        "print('For model with 2% dropped, Attack Success Rate:', attack_success_rate_2)\n",
        "\n",
        "clean_test_4_label_pred = np.argmax(pruned_model_X_4.predict(clean_x_test), axis=1)\n",
        "clean_test_4_accuracy = np.mean(np.equal(clean_test_4_label_pred, clean_y_test)) * 100\n",
        "print('For model with 4% dropped, the clean test data Classification accuracy:', clean_test_4_accuracy)\n",
        "\n",
        "poisoned_test_4_label_pred = np.argmax(pruned_model_X_4.predict(poisoned_x_test), axis=1)\n",
        "attack_success_rate_4 = np.mean(np.equal(poisoned_test_4_label_pred, poisoned_y_test)) * 100\n",
        "print('For model with 4% dropped, Attack Success Rate:', attack_success_rate_4)\n",
        "\n",
        "clean_test_10_label_pred = np.argmax(pruned_model_X_10.predict(clean_x_test), axis=1)\n",
        "clean_test_10_accuracy = np.mean(np.equal(clean_test_10_label_pred, clean_y_test)) * 100\n",
        "print('For model with 10% dropped, the clean test data Classification accuracy:', clean_test_10_accuracy)\n",
        "\n",
        "poisoned_test_10_label_pred = np.argmax(pruned_model_X_10.predict(poisoned_x_test), axis=1)\n",
        "attack_success_rate_10 = np.mean(np.equal(poisoned_test_10_label_pred, poisoned_y_test)) * 100\n",
        "print('For model with 10% dropped, Attack Success Rate:', attack_success_rate_10)\n"
      ],
      "metadata": {
        "colab": {
          "base_uri": "https://localhost:8080/"
        },
        "id": "Zc8T9jB1PvY1",
        "outputId": "c66f8d7f-df54-4611-9614-487aa5f9d404"
      },
      "execution_count": 31,
      "outputs": [
        {
          "output_type": "stream",
          "name": "stdout",
          "text": [
            "401/401 [==============================] - 5s 11ms/step\n",
            "For model with 2% dropped, the clean test data Classification accuracy: 39.75837879968823\n",
            "401/401 [==============================] - 4s 11ms/step\n",
            "For model with 2% dropped, Attack Success Rate: 99.89867498051443\n",
            "401/401 [==============================] - 4s 10ms/step\n",
            "For model with 4% dropped, the clean test data Classification accuracy: 38.3008573655495\n",
            "401/401 [==============================] - 4s 11ms/step\n",
            "For model with 4% dropped, Attack Success Rate: 99.89867498051443\n",
            "401/401 [==============================] - 4s 11ms/step\n",
            "For model with 10% dropped, the clean test data Classification accuracy: 31.145752143413873\n",
            "401/401 [==============================] - 4s 10ms/step\n",
            "For model with 10% dropped, Attack Success Rate: 99.65705378020266\n"
          ]
        }
      ]
    },
    {
      "cell_type": "code",
      "source": [
        "good_clean_test_2_label_pred = good_model_X_2.predict(clean_x_test)\n",
        "good_clean_test_2_accuracy = np.mean(np.equal(clean_test_2_label_pred, clean_y_test)) * 100\n",
        "print('Combined model with 2% dropped accuracy, the clean test data classification accuracy:', good_clean_test_2_accuracy)\n",
        "\n",
        "good_poisoned_test_2_label_pred = good_model_X_2.predict(poisoned_x_test)\n",
        "good_model_asrate_2 = np.mean(np.equal(poisoned_test_2_label_pred, poisoned_y_test)) * 100\n",
        "print('Combined model with 2% dropped accuracy, Attack Success Rate:', good_model_asrate_2)\n",
        "\n",
        "good_clean_test_4_label_pred = good_model_X_4.predict(clean_x_test)\n",
        "good_clean_test_4_accuracy = np.mean(np.equal(clean_test_4_label_pred, clean_y_test)) * 100\n",
        "print('Combined model with 4% dropped accuracy, the clean test data classification accuracy:', good_clean_test_4_accuracy)\n",
        "\n",
        "good_poisoned_test_4_label_pred = good_model_X_4.predict(poisoned_x_test)\n",
        "good_model_asrate_4 = np.mean(np.equal(poisoned_test_4_label_pred, poisoned_y_test)) * 100\n",
        "print('Combined model with 4% dropped accuracy, Attack Success Rate:', good_model_asrate_4)\n",
        "\n",
        "good_clean_test_10_label_pred = good_model_X_10.predict(clean_x_test)\n",
        "good_clean_test_10_accuracy = np.mean(np.equal(good_clean_test_10_label_pred, clean_y_test)) * 100\n",
        "print('Combined model with 10% dropped accuracy, the clean test data classification accuracy:', good_clean_test_10_accuracy)\n",
        "\n",
        "good_poisoned_test_10_label_pred = good_model_X_10.predict(poisoned_x_test)\n",
        "good_model_asrate_10 = np.mean(np.equal(good_poisoned_test_10_label_pred, poisoned_y_test)) * 100\n",
        "print('Combined model with 10% dropped accuracy, Attack Success Rate:', good_model_asrate_10)\n"
      ],
      "metadata": {
        "colab": {
          "base_uri": "https://localhost:8080/"
        },
        "id": "FL-6JvKmQFhY",
        "outputId": "72fab04b-206c-4805-be8f-58e999a54662"
      },
      "execution_count": 32,
      "outputs": [
        {
          "output_type": "stream",
          "name": "stdout",
          "text": [
            "Combined model with 2% dropped accuracy, the clean test data classification accuracy: 39.75837879968823\n",
            "Combined model with 2% dropped accuracy, Attack Success Rate: 99.89867498051443\n",
            "Combined model with 4% dropped accuracy, the clean test data classification accuracy: 38.3008573655495\n",
            "Combined model with 4% dropped accuracy, Attack Success Rate: 99.89867498051443\n",
            "Combined model with 10% dropped accuracy, the clean test data classification accuracy: 30.77942322681216\n",
            "Combined model with 10% dropped accuracy, Attack Success Rate: 99.65705378020266\n"
          ]
        }
      ]
    }
  ]
}